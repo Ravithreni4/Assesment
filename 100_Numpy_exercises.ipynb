{
 "cells": [
  {
   "cell_type": "markdown",
   "id": "6293cc50",
   "metadata": {},
   "source": [
    "# 100 numpy exercises\n",
    "\n",
    "This is a collection of exercises that have been collected in the numpy mailing list, on stack overflow\n",
    "and in the numpy documentation. The goal of this collection is to offer a quick reference for both old\n",
    "and new users but also to provide a set of exercises for those who teach.\n",
    "\n",
    "\n",
    "If you find an error or think you've a better way to solve some of them, feel\n",
    "free to open an issue at <https://github.com/rougier/numpy-100>."
   ]
  },
  {
   "cell_type": "markdown",
   "id": "a167c052",
   "metadata": {},
   "source": [
    "File automatically generated. See the documentation to update questions/answers/hints programmatically."
   ]
  },
  {
   "cell_type": "markdown",
   "id": "57fc0ee5",
   "metadata": {},
   "source": [
    "Run the `initialize.py` module, then for each question you can query the\n",
    "answer or an hint with `hint(n)` or `answer(n)` for `n` question number."
   ]
  },
  {
   "cell_type": "code",
   "execution_count": null,
   "id": "ec57b1cd",
   "metadata": {},
   "outputs": [],
   "source": [
    "%run initialize.py"
   ]
  },
  {
   "cell_type": "markdown",
   "id": "3c1222ff",
   "metadata": {},
   "source": [
    "#### 1. Import the numpy package under the name `np` (★☆☆)"
   ]
  },
  {
   "cell_type": "code",
   "execution_count": 3,
   "id": "f52e6a0b",
   "metadata": {},
   "outputs": [],
   "source": [
    "import numpy as np\n"
   ]
  },
  {
   "cell_type": "markdown",
   "id": "9d9f4753",
   "metadata": {},
   "source": [
    "#### 2. Print the numpy version and the configuration (★☆☆)"
   ]
  },
  {
   "cell_type": "code",
   "execution_count": 4,
   "id": "b7fa5fa1",
   "metadata": {},
   "outputs": [
    {
     "name": "stdout",
     "output_type": "stream",
     "text": [
      "NumPy version: 2.1.3\n"
     ]
    }
   ],
   "source": [
    "print(\"NumPy version:\", np.__version__)"
   ]
  },
  {
   "cell_type": "markdown",
   "id": "3e4c23c6",
   "metadata": {},
   "source": [
    "#### 3. Create a null vector of size 10 (★☆☆)"
   ]
  },
  {
   "cell_type": "code",
   "execution_count": 5,
   "id": "083c5c46",
   "metadata": {},
   "outputs": [
    {
     "name": "stdout",
     "output_type": "stream",
     "text": [
      "[0. 0. 0. 0. 0. 0. 0. 0. 0. 0.]\n"
     ]
    }
   ],
   "source": [
    "import numpy as np\n",
    "\n",
    "a  = np.zeros(10)\n",
    "print(a)\n"
   ]
  },
  {
   "cell_type": "markdown",
   "id": "c38bbe82",
   "metadata": {},
   "source": [
    "#### 4. How to find the memory size of any array (★☆☆)"
   ]
  },
  {
   "cell_type": "code",
   "execution_count": 6,
   "id": "02b04021",
   "metadata": {},
   "outputs": [
    {
     "name": "stdout",
     "output_type": "stream",
     "text": [
      "Size: 5\n"
     ]
    }
   ],
   "source": [
    "arr = np.array([1, 2, 3, 4, 5])\n",
    "\n",
    "size = arr.size\n",
    "print(\"Size:\", size)\n"
   ]
  },
  {
   "cell_type": "markdown",
   "id": "67f893d4",
   "metadata": {},
   "source": [
    "#### 5. How to get the documentation of the numpy add function from the command line? (★☆☆)"
   ]
  },
  {
   "cell_type": "code",
   "execution_count": 7,
   "id": "40e6b70d",
   "metadata": {},
   "outputs": [
    {
     "data": {
      "text/plain": [
       "'import numpy; numpy.info(numpy.add)'"
      ]
     },
     "execution_count": 7,
     "metadata": {},
     "output_type": "execute_result"
    }
   ],
   "source": [
    "\"import numpy; numpy.info(numpy.add)\""
   ]
  },
  {
   "cell_type": "markdown",
   "id": "e0c739c6",
   "metadata": {},
   "source": [
    "#### 6. Create a null vector of size 10 but the fifth value which is 1 (★☆☆)"
   ]
  },
  {
   "cell_type": "code",
   "execution_count": 8,
   "id": "bcceacf7",
   "metadata": {},
   "outputs": [
    {
     "name": "stdout",
     "output_type": "stream",
     "text": [
      "[0. 0. 0. 0. 1. 0. 0. 0. 0. 0.]\n"
     ]
    }
   ],
   "source": [
    "\n",
    "import numpy as np\n",
    "\n",
    "a = np.zeros(10)\n",
    "\n",
    "a[4] = 1\n",
    "\n",
    "print(a)"
   ]
  },
  {
   "cell_type": "markdown",
   "id": "fbebedab",
   "metadata": {},
   "source": [
    "#### 7. Create a vector with values ranging from 10 to 49 (★☆☆)"
   ]
  },
  {
   "cell_type": "code",
   "execution_count": 9,
   "id": "3d117d54",
   "metadata": {},
   "outputs": [
    {
     "name": "stdout",
     "output_type": "stream",
     "text": [
      "[10 11 12 13 14 15 16 17 18 19 20 21 22 23 24 25 26 27 28 29 30 31 32 33\n",
      " 34 35 36 37 38 39 40 41 42 43 44 45 46 47 48 49]\n"
     ]
    }
   ],
   "source": [
    "v = np.arange(10, 50)\n",
    "print(v)\n"
   ]
  },
  {
   "cell_type": "markdown",
   "id": "ad0bff02",
   "metadata": {},
   "source": [
    "#### 8. Reverse a vector (first element becomes last) (★☆☆)"
   ]
  },
  {
   "cell_type": "code",
   "execution_count": 10,
   "id": "22d23470",
   "metadata": {},
   "outputs": [
    {
     "name": "stdout",
     "output_type": "stream",
     "text": [
      "[49 48 47 46 45 44 43 42 41 40 39 38 37 36 35 34 33 32 31 30 29 28 27 26\n",
      " 25 24 23 22 21 20 19 18 17 16 15 14 13 12 11 10  9  8  7  6  5  4  3  2\n",
      "  1  0]\n"
     ]
    }
   ],
   "source": [
    "b = np.arange(50)\n",
    "b  = b[::-1]\n",
    "print(b)"
   ]
  },
  {
   "cell_type": "markdown",
   "id": "9f59d7e1",
   "metadata": {},
   "source": [
    "#### 9. Create a 3x3 matrix with values ranging from 0 to 8 (★☆☆)"
   ]
  },
  {
   "cell_type": "code",
   "execution_count": null,
   "id": "7449e82d",
   "metadata": {},
   "outputs": [
    {
     "name": "stdout",
     "output_type": "stream",
     "text": [
      "[[0 1 2]\n",
      " [3 4 5]\n",
      " [6 7 8]]\n"
     ]
    }
   ],
   "source": [
    "import numpy as np\n",
    "\n",
    "matrix= np.arange(9).reshape(3, 3)\n",
    "\n",
    "print(matrix)"
   ]
  },
  {
   "cell_type": "markdown",
   "id": "f374c4cf",
   "metadata": {},
   "source": [
    "#### 10. Find indices of non-zero elements from [1,2,0,0,4,0] (★☆☆)"
   ]
  },
  {
   "cell_type": "code",
   "execution_count": null,
   "id": "1a84bed8",
   "metadata": {},
   "outputs": [
    {
     "name": "stdout",
     "output_type": "stream",
     "text": [
      "(array([0, 1, 4]),)\n"
     ]
    }
   ],
   "source": [
    "\n",
    "arr = np.array([1, 2, 0, 0, 4, 0])\n",
    "non_zero_indices = np.nonzero(arr)\n",
    "\n",
    "print(non_zero_indices)"
   ]
  },
  {
   "cell_type": "markdown",
   "id": "9c4707f5",
   "metadata": {},
   "source": [
    "#### 11. Create a 3x3 identity matrix (★☆☆)"
   ]
  },
  {
   "cell_type": "code",
   "execution_count": null,
   "id": "29dc1fd3",
   "metadata": {},
   "outputs": [
    {
     "name": "stdout",
     "output_type": "stream",
     "text": [
      "[[1. 0. 0.]\n",
      " [0. 1. 0.]\n",
      " [0. 0. 1.]]\n"
     ]
    }
   ],
   "source": [
    "import numpy as np\n",
    "\n",
    "identity_matrix = np.eye(3)\n",
    "print(identity_matrix)"
   ]
  },
  {
   "cell_type": "markdown",
   "id": "3bac294a",
   "metadata": {},
   "source": [
    "#### 12. Create a 3x3x3 array with random values (★☆☆)"
   ]
  },
  {
   "cell_type": "code",
   "execution_count": 16,
   "id": "eadfae67",
   "metadata": {},
   "outputs": [
    {
     "name": "stdout",
     "output_type": "stream",
     "text": [
      "[[[0.54378555 0.02237083 0.15265773]\n",
      "  [0.65066462 0.47442556 0.36109794]\n",
      "  [0.39071418 0.94953446 0.39720727]]\n",
      "\n",
      " [[0.11013102 0.33665101 0.14131877]\n",
      "  [0.54713461 0.90615788 0.42535775]\n",
      "  [0.1807709  0.49670204 0.32389063]]\n",
      "\n",
      " [[0.65907641 0.30742128 0.95476355]\n",
      "  [0.73042781 0.04830056 0.12411789]\n",
      "  [0.35040857 0.20617997 0.29897936]]]\n"
     ]
    }
   ],
   "source": [
    "random_array = np.random.rand(3, 3, 3)\n",
    "\n",
    "print(random_array)"
   ]
  },
  {
   "cell_type": "markdown",
   "id": "466c2989",
   "metadata": {},
   "source": [
    "#### 13. Create a 10x10 array with random values and find the minimum and maximum values (★☆☆)"
   ]
  },
  {
   "cell_type": "code",
   "execution_count": null,
   "id": "9a74dbfc",
   "metadata": {},
   "outputs": [
    {
     "name": "stdout",
     "output_type": "stream",
     "text": [
      "Minimum value: 0.003813334864748219\n",
      "Maximum value: 0.9905496408116244\n"
     ]
    }
   ],
   "source": [
    "\n",
    "random_array = np.random.rand(10, 10)\n",
    "\n",
    "min_value = np.min(random_array)\n",
    "\n",
    "max_value = np.max(random_array)\n",
    "\n",
    "print(\"Minimum value:\", min_value)\n",
    "\n",
    "print(\"Maximum value:\", max_value)"
   ]
  },
  {
   "cell_type": "markdown",
   "id": "53a8edb2",
   "metadata": {},
   "source": [
    "#### 14. Create a random vector of size 30 and find the mean value (★☆☆)"
   ]
  },
  {
   "cell_type": "code",
   "execution_count": 17,
   "id": "6691530b",
   "metadata": {},
   "outputs": [
    {
     "name": "stdout",
     "output_type": "stream",
     "text": [
      "Mean value: 0.5358427240667393\n"
     ]
    }
   ],
   "source": [
    "\n",
    "random_vector = np.random.rand(30)\n",
    "\n",
    "\n",
    "mean_value = np.mean(random_vector)\n",
    "\n",
    "print(\"Mean value:\", mean_value)"
   ]
  },
  {
   "cell_type": "markdown",
   "id": "cbaad31c",
   "metadata": {},
   "source": [
    "#### 15. Create a 2d array with 1 on the border and 0 inside (★☆☆)"
   ]
  },
  {
   "cell_type": "code",
   "execution_count": 18,
   "id": "ad8308e3",
   "metadata": {},
   "outputs": [
    {
     "name": "stdout",
     "output_type": "stream",
     "text": [
      "[[1 1 1 1 1]\n",
      " [1 0 0 0 1]\n",
      " [1 0 0 0 1]\n",
      " [1 0 0 0 1]\n",
      " [1 1 1 1 1]]\n"
     ]
    }
   ],
   "source": [
    "import numpy as np\n",
    "\n",
    "array = np.zeros((5, 5), dtype=int)\n",
    "\n",
    "array[0, :] = 1\n",
    "array[-1, :] = 1\n",
    "array[:, 0] = 1\n",
    "array[:, -1] = 1\n",
    "\n",
    "print(array)"
   ]
  },
  {
   "cell_type": "markdown",
   "id": "c5ecc267",
   "metadata": {},
   "source": [
    "#### 16. How to add a border (filled with 0's) around an existing array? (★☆☆)"
   ]
  },
  {
   "cell_type": "code",
   "execution_count": 19,
   "id": "9d5c78c4",
   "metadata": {},
   "outputs": [
    {
     "name": "stdout",
     "output_type": "stream",
     "text": [
      "[[0 0 0 0 0]\n",
      " [0 1 2 3 0]\n",
      " [0 4 5 6 0]\n",
      " [0 7 8 9 0]\n",
      " [0 0 0 0 0]]\n"
     ]
    }
   ],
   "source": [
    "import numpy as np\n",
    "\n",
    "arr = np.array([[1, 2, 3],\n",
    "                [4, 5, 6],\n",
    "                [7, 8, 9]])\n",
    "\n",
    "border = np.zeros((5, 5), dtype=int)\n",
    "\n",
    "border[1:4, 1:4] = arr\n",
    "\n",
    "print(border)"
   ]
  },
  {
   "cell_type": "markdown",
   "id": "ef909b72",
   "metadata": {},
   "source": [
    "#### 17. What is the result of the following expression? (★☆☆)\n",
    "```python\n",
    "0 * np.nan\n",
    "np.nan == np.nan\n",
    "np.inf > np.nan\n",
    "np.nan - np.nan\n",
    "np.nan in set([np.nan])\n",
    "0.3 == 3 * 0.1\n",
    "```"
   ]
  },
  {
   "cell_type": "code",
   "execution_count": 20,
   "id": "3b4985f2",
   "metadata": {},
   "outputs": [
    {
     "name": "stdout",
     "output_type": "stream",
     "text": [
      "nan\n",
      "False\n",
      "False\n",
      "nan\n",
      "True\n",
      "False\n"
     ]
    }
   ],
   "source": [
    "print(0 * np.nan)\n",
    "print(np.nan == np.nan)\n",
    "print(np.inf > np.nan)\n",
    "print(np.nan - np.nan)\n",
    "print(np.nan in set([np.nan]))\n",
    "print(0.3 == 3 * 0.1)\n"
   ]
  },
  {
   "cell_type": "markdown",
   "id": "502738ac",
   "metadata": {},
   "source": [
    "#### 18. Create a 5x5 matrix with values 1,2,3,4 just below the diagonal (★☆☆)"
   ]
  },
  {
   "cell_type": "code",
   "execution_count": 21,
   "id": "faed6e2b",
   "metadata": {},
   "outputs": [
    {
     "name": "stdout",
     "output_type": "stream",
     "text": [
      "[[0. 0. 0. 0. 0.]\n",
      " [1. 0. 0. 0. 0.]\n",
      " [0. 2. 0. 0. 0.]\n",
      " [0. 0. 3. 0. 0.]\n",
      " [0. 0. 0. 4. 0.]]\n"
     ]
    }
   ],
   "source": [
    "\n",
    "matrix = np.zeros((5, 5))\n",
    "\n",
    "for i in range(1, 5):\n",
    "    matrix[i, i-1] = i\n",
    "\n",
    "print(matrix)"
   ]
  },
  {
   "cell_type": "markdown",
   "id": "a65da660",
   "metadata": {},
   "source": [
    "#### 19. Create a 8x8 matrix and fill it with a checkerboard pattern (★☆☆)"
   ]
  },
  {
   "cell_type": "code",
   "execution_count": 22,
   "id": "ed150400",
   "metadata": {},
   "outputs": [
    {
     "name": "stdout",
     "output_type": "stream",
     "text": [
      "[[0 1 0 1 0 1 0 1]\n",
      " [1 0 1 0 1 0 1 0]\n",
      " [0 1 0 1 0 1 0 1]\n",
      " [1 0 1 0 1 0 1 0]\n",
      " [0 1 0 1 0 1 0 1]\n",
      " [1 0 1 0 1 0 1 0]\n",
      " [0 1 0 1 0 1 0 1]\n",
      " [1 0 1 0 1 0 1 0]]\n"
     ]
    }
   ],
   "source": [
    "\n",
    "matrix = np.zeros((8, 8), dtype=int)\n",
    "\n",
    "matrix[1::2, ::2] = 1\n",
    "matrix[::2, 1::2] = 1\n",
    "\n",
    "print(matrix)"
   ]
  },
  {
   "cell_type": "markdown",
   "id": "9f7f9c49",
   "metadata": {},
   "source": [
    "#### 20. Consider a (6,7,8) shape array, what is the index (x,y,z) of the 100th element? (★☆☆)"
   ]
  },
  {
   "cell_type": "code",
   "execution_count": 23,
   "id": "3782b5a9",
   "metadata": {},
   "outputs": [
    {
     "name": "stdout",
     "output_type": "stream",
     "text": [
      "The index of the 100th element is: (1, 5, 3)\n"
     ]
    }
   ],
   "source": [
    "\n",
    "shape = (6, 7, 8)\n",
    "\n",
    "index_1d = 99\n",
    "x, y, z = np.unravel_index(index_1d, shape)\n",
    "\n",
    "print(f\"The index of the 100th element is: ({x}, {y}, {z})\")"
   ]
  },
  {
   "cell_type": "markdown",
   "id": "66bfda35",
   "metadata": {},
   "source": [
    "#### 21. Create a checkerboard 8x8 matrix using the tile function (★☆☆)"
   ]
  },
  {
   "cell_type": "code",
   "execution_count": 24,
   "id": "4c07477c",
   "metadata": {},
   "outputs": [
    {
     "name": "stdout",
     "output_type": "stream",
     "text": [
      "[[0 1 0 1 0 1 0 1]\n",
      " [1 0 1 0 1 0 1 0]\n",
      " [0 1 0 1 0 1 0 1]\n",
      " [1 0 1 0 1 0 1 0]\n",
      " [0 1 0 1 0 1 0 1]\n",
      " [1 0 1 0 1 0 1 0]\n",
      " [0 1 0 1 0 1 0 1]\n",
      " [1 0 1 0 1 0 1 0]]\n"
     ]
    }
   ],
   "source": [
    "\n",
    "checkerboard_pattern = np.array([[0, 1], [1, 0]])\n",
    "\n",
    "checkerboard_matrix = np.tile(checkerboard_pattern, (4, 4))\n",
    "\n",
    "print(checkerboard_matrix)"
   ]
  },
  {
   "cell_type": "markdown",
   "id": "d5bcfc08",
   "metadata": {},
   "source": [
    "#### 22. Normalize a 5x5 random matrix (★☆☆)"
   ]
  },
  {
   "cell_type": "code",
   "execution_count": 25,
   "id": "cea6c993",
   "metadata": {},
   "outputs": [
    {
     "name": "stdout",
     "output_type": "stream",
     "text": [
      "[[0.04947563 0.83159848 0.65143761 1.         0.45154121]\n",
      " [0.25141357 0.02118253 0.45351064 0.         0.50191927]\n",
      " [0.49655324 0.28458983 0.95008334 0.3894827  0.44678531]\n",
      " [0.05890559 0.86729123 0.25620697 0.17607823 0.64126363]\n",
      " [0.11193409 0.64713847 0.7932306  0.24900483 0.63236658]]\n"
     ]
    }
   ],
   "source": [
    "\n",
    "random_matrix = np.random.rand(5, 5)\n",
    "\n",
    "normalized_matrix = (random_matrix - np.min(random_matrix)) / (np.max(random_matrix) - np.min(random_matrix))\n",
    "\n",
    "print(normalized_matrix)"
   ]
  },
  {
   "cell_type": "markdown",
   "id": "f9a0911e",
   "metadata": {},
   "source": [
    "#### 23. Create a custom dtype that describes a color as four unsigned bytes (RGBA) (★☆☆)"
   ]
  },
  {
   "cell_type": "code",
   "execution_count": 26,
   "id": "d165044b",
   "metadata": {},
   "outputs": [
    {
     "name": "stdout",
     "output_type": "stream",
     "text": [
      "[(255,   0,   0, 255) (  0, 255,   0, 255) (  0,   0, 255, 255)]\n"
     ]
    }
   ],
   "source": [
    "\n",
    "color_dtype = np.dtype([('r', np.uint8), ('g', np.uint8), ('b', np.uint8), ('a', np.uint8)])\n",
    "\n",
    "colors = np.array([(255, 0, 0, 255), (0, 255, 0, 255), (0, 0, 255, 255)], dtype=color_dtype)\n",
    "\n",
    "print(colors)"
   ]
  },
  {
   "cell_type": "markdown",
   "id": "654805b1",
   "metadata": {},
   "source": [
    "#### 24. Multiply a 5x3 matrix by a 3x2 matrix (real matrix product) (★☆☆)"
   ]
  },
  {
   "cell_type": "code",
   "execution_count": 27,
   "id": "6a42619f",
   "metadata": {},
   "outputs": [
    {
     "name": "stdout",
     "output_type": "stream",
     "text": [
      "[[ 22  28]\n",
      " [ 49  64]\n",
      " [ 76 100]\n",
      " [103 136]\n",
      " [130 172]]\n"
     ]
    }
   ],
   "source": [
    "import numpy as np\n",
    "\n",
    "# Define the two matrices\n",
    "matrix1 = np.array([[1, 2, 3],\n",
    "                   [4, 5, 6],\n",
    "                   [7, 8, 9],\n",
    "                   [10, 11, 12],\n",
    "                   [13, 14, 15]])\n",
    "\n",
    "matrix2 = np.array([[1, 2],\n",
    "                   [3, 4],\n",
    "                   [5, 6]])\n",
    "\n",
    "# Multiply the matrices using np.dot()\n",
    "result = np.dot(matrix1, matrix2)\n",
    "\n",
    "print(result)"
   ]
  },
  {
   "cell_type": "markdown",
   "id": "994c25df",
   "metadata": {},
   "source": [
    "#### 25. Given a 1D array, negate all elements which are between 3 and 8, in place. (★☆☆)"
   ]
  },
  {
   "cell_type": "code",
   "execution_count": 28,
   "id": "e4b39c03",
   "metadata": {},
   "outputs": [
    {
     "name": "stdout",
     "output_type": "stream",
     "text": [
      "[ 1  2  3 -4 -5 -6 -7  8  9]\n"
     ]
    }
   ],
   "source": [
    "\n",
    "arr = np.array([1, 2, 3, 4, 5, 6, 7, 8, 9])\n",
    "\n",
    "arr[(3 < arr) & (arr < 8)] *= -1\n",
    "\n",
    "print(arr)"
   ]
  },
  {
   "cell_type": "markdown",
   "id": "b7d15d1a",
   "metadata": {},
   "source": [
    "#### 26. What is the output of the following script? (★☆☆)\n",
    "```python\n",
    "# Author: Jake VanderPlas\n",
    "\n",
    "print(sum(range(5),-1))\n",
    "from numpy import *\n",
    "print(sum(range(5),-1))\n",
    "```"
   ]
  },
  {
   "cell_type": "code",
   "execution_count": 29,
   "id": "4c95bc3f",
   "metadata": {},
   "outputs": [
    {
     "name": "stdout",
     "output_type": "stream",
     "text": [
      "9\n",
      "10\n"
     ]
    }
   ],
   "source": [
    "print(sum(range(5),-1))\n",
    "from numpy import *\n",
    "print(sum(range(5),-1))"
   ]
  },
  {
   "cell_type": "markdown",
   "id": "a34f0d08",
   "metadata": {},
   "source": [
    "#### 27. Consider an integer vector Z, which of these expressions are legal? (★☆☆)\n",
    "```python\n",
    "(Z**Z)\n",
    "2 << Z >> 2\n",
    "Z <- Z\n",
    "1j*Z\n",
    "Z/1/1\n",
    "Z<Z>Z\n",
    "```"
   ]
  },
  {
   "cell_type": "code",
   "execution_count": 43,
   "id": "564658fc",
   "metadata": {},
   "outputs": [
    {
     "name": "stdout",
     "output_type": "stream",
     "text": [
      "[ 1  4 27]\n",
      "[1 2 4]\n",
      "[0.+1.j 0.+2.j 0.+3.j]\n",
      "[1. 2. 3.]\n"
     ]
    }
   ],
   "source": [
    "\n",
    "Z = np.array([1, 2, 3,])\n",
    "result1 = Z**Z\n",
    "print(result1)\n",
    "\n",
    "result2 = 2 << Z >> 2\n",
    "print(result2)\n",
    "\n",
    "result3 = 1j * Z\n",
    "print(result3)\n",
    "\n",
    "result4 = Z / 1 / 1\n",
    "print(result4)"
   ]
  },
  {
   "cell_type": "markdown",
   "id": "c34e94bf",
   "metadata": {},
   "source": [
    "#### 28. What are the result of the following expressions? (★☆☆)\n",
    "```python\n",
    "np.array(0) / np.array(0)\n",
    "np.array(0) // np.array(0)\n",
    "np.array([np.nan]).astype(int).astype(float)\n",
    "```"
   ]
  },
  {
   "cell_type": "code",
   "execution_count": 46,
   "id": "56663562",
   "metadata": {},
   "outputs": [
    {
     "name": "stdout",
     "output_type": "stream",
     "text": [
      "nan\n",
      "0\n",
      "[-9.22337204e+18]\n"
     ]
    },
    {
     "name": "stderr",
     "output_type": "stream",
     "text": [
      "C:\\Users\\ravit\\AppData\\Local\\Temp\\ipykernel_20260\\2894936373.py:1: RuntimeWarning: invalid value encountered in divide\n",
      "  print(np.array(0) / np.array(0))\n",
      "C:\\Users\\ravit\\AppData\\Local\\Temp\\ipykernel_20260\\2894936373.py:3: RuntimeWarning: divide by zero encountered in floor_divide\n",
      "  print(np.array(0) // np.array(0))\n",
      "C:\\Users\\ravit\\AppData\\Local\\Temp\\ipykernel_20260\\2894936373.py:5: RuntimeWarning: invalid value encountered in cast\n",
      "  print(np.array([np.nan]).astype(int).astype(float))\n"
     ]
    }
   ],
   "source": [
    "print(np.array(0) / np.array(0))\n",
    "\n",
    "print(np.array(0) // np.array(0))\n",
    "\n",
    "print(np.array([np.nan]).astype(int).astype(float))"
   ]
  },
  {
   "cell_type": "markdown",
   "id": "546f5e7b",
   "metadata": {},
   "source": [
    "#### 29. How to round away from zero a float array ? (★☆☆)"
   ]
  },
  {
   "cell_type": "code",
   "execution_count": 42,
   "id": "f725a6d2",
   "metadata": {},
   "outputs": [
    {
     "name": "stdout",
     "output_type": "stream",
     "text": [
      "[-3.  2. -1.  4.]\n"
     ]
    }
   ],
   "source": [
    "\n",
    "arr = np.array([-2.5, 1.3, -0.8, 3.7])\n",
    "\n",
    "rounded_arr = np.where(arr >= 0, np.ceil(arr), np.floor(arr))\n",
    "\n",
    "print(rounded_arr)"
   ]
  },
  {
   "cell_type": "markdown",
   "id": "eadca856",
   "metadata": {},
   "source": [
    "#### 30. How to find common values between two arrays? (★☆☆)"
   ]
  },
  {
   "cell_type": "code",
   "execution_count": 47,
   "id": "e0270b5b",
   "metadata": {},
   "outputs": [
    {
     "name": "stdout",
     "output_type": "stream",
     "text": [
      "[2 4 5]\n"
     ]
    }
   ],
   "source": [
    "\n",
    "Z1 = np.random.randint(0,10,10)\n",
    "Z2 = np.random.randint(0,10,10)\n",
    "print(np.intersect1d(Z1,Z2))"
   ]
  },
  {
   "cell_type": "markdown",
   "id": "ca16ca22",
   "metadata": {},
   "source": [
    "#### 31. How to ignore all numpy warnings (not recommended)? (★☆☆)"
   ]
  },
  {
   "cell_type": "code",
   "execution_count": 48,
   "id": "7d7208ef",
   "metadata": {},
   "outputs": [
    {
     "data": {
      "text/plain": [
       "{'divide': 'warn', 'over': 'warn', 'under': 'ignore', 'invalid': 'warn'}"
      ]
     },
     "execution_count": 48,
     "metadata": {},
     "output_type": "execute_result"
    }
   ],
   "source": [
    "\n",
    "np.seterr(all='ignore')"
   ]
  },
  {
   "cell_type": "markdown",
   "id": "c7871d0d",
   "metadata": {},
   "source": [
    "#### 32. Is the following expressions true? (★☆☆)\n",
    "```python\n",
    "np.sqrt(-1) == np.emath.sqrt(-1)\n",
    "```"
   ]
  },
  {
   "cell_type": "code",
   "execution_count": 49,
   "id": "acc3701a",
   "metadata": {},
   "outputs": [
    {
     "data": {
      "text/plain": [
       "np.False_"
      ]
     },
     "execution_count": 49,
     "metadata": {},
     "output_type": "execute_result"
    }
   ],
   "source": [
    "np.sqrt(-1) == np.emath.sqrt(-1)"
   ]
  },
  {
   "cell_type": "markdown",
   "id": "e0433e30",
   "metadata": {},
   "source": [
    "#### 33. How to get the dates of yesterday, today and tomorrow? (★☆☆)"
   ]
  },
  {
   "cell_type": "code",
   "execution_count": 51,
   "id": "9c4d2152",
   "metadata": {},
   "outputs": [
    {
     "name": "stdout",
     "output_type": "stream",
     "text": [
      "Yesterday: 2024-12-07\n",
      "Today: 2024-12-08\n",
      "Tomorrow: 2024-12-09\n"
     ]
    }
   ],
   "source": [
    "import datetime\n",
    "\n",
    "today = datetime.date.today()\n",
    "\n",
    "yesterday = today - datetime.timedelta(days=1)\n",
    "\n",
    "tomorrow = today + datetime.timedelta(days=1)\n",
    "\n",
    "print(\"Yesterday:\", yesterday)\n",
    "print(\"Today:\", today)\n",
    "print(\"Tomorrow:\", tomorrow)"
   ]
  },
  {
   "cell_type": "markdown",
   "id": "9f52a2ef",
   "metadata": {},
   "source": [
    "#### 34. How to get all the dates corresponding to the month of July 2016? (★★☆)"
   ]
  },
  {
   "cell_type": "code",
   "execution_count": 54,
   "id": "d6c34dec",
   "metadata": {},
   "outputs": [
    {
     "name": "stdout",
     "output_type": "stream",
     "text": [
      "2016-07-01\n",
      "2016-07-02\n",
      "2016-07-03\n",
      "2016-07-04\n",
      "2016-07-05\n",
      "2016-07-06\n",
      "2016-07-07\n",
      "2016-07-08\n",
      "2016-07-09\n",
      "2016-07-10\n",
      "2016-07-11\n",
      "2016-07-12\n",
      "2016-07-13\n",
      "2016-07-14\n",
      "2016-07-15\n",
      "2016-07-16\n",
      "2016-07-17\n",
      "2016-07-18\n",
      "2016-07-19\n",
      "2016-07-20\n",
      "2016-07-21\n",
      "2016-07-22\n",
      "2016-07-23\n",
      "2016-07-24\n",
      "2016-07-25\n",
      "2016-07-26\n",
      "2016-07-27\n",
      "2016-07-28\n",
      "2016-07-29\n",
      "2016-07-30\n",
      "2016-07-31\n"
     ]
    }
   ],
   "source": [
    "import calendar\n",
    "import datetime\n",
    "\n",
    "start_date = datetime.datetime(2016, 7, 1)\n",
    "\n",
    "num_days = calendar.monthrange(2016, 7)[1]\n",
    "\n",
    "dates = [start_date + datetime.timedelta(days=x) for x in range(num_days)]\n",
    "\n",
    "for date in dates:\n",
    "    print(date.strftime(\"%Y-%m-%d\"))"
   ]
  },
  {
   "cell_type": "markdown",
   "id": "4a64e059",
   "metadata": {},
   "source": [
    "#### 35. How to compute ((A+B)*(-A/2)) in place (without copy)? (★★☆)"
   ]
  },
  {
   "cell_type": "code",
   "execution_count": 59,
   "id": "49267f60",
   "metadata": {},
   "outputs": [
    {
     "name": "stdout",
     "output_type": "stream",
     "text": [
      "[3. 3. 3.]\n",
      "[0.5 0.5 0.5]\n",
      "[-0.5 -0.5 -0.5]\n",
      "[-1.5 -1.5 -1.5]\n"
     ]
    }
   ],
   "source": [
    "\n",
    "A = np.ones(3)*1\n",
    "B = np.ones(3)*2\n",
    "print(np.add(A,B,out=B))\n",
    "print(np.divide(A,2,out=A))\n",
    "print(np.negative(A,out=A))\n",
    "print(np.multiply(A,B,out=A))"
   ]
  },
  {
   "cell_type": "markdown",
   "id": "8a98c2a8",
   "metadata": {},
   "source": [
    "#### 36. Extract the integer part of a random array of positive numbers using 4 different methods (★★☆)"
   ]
  },
  {
   "cell_type": "code",
   "execution_count": 62,
   "id": "368130b3",
   "metadata": {},
   "outputs": [
    {
     "name": "stdout",
     "output_type": "stream",
     "text": [
      "[9. 5. 1. 8. 7. 8. 1. 4. 5. 5.]\n",
      "[9. 5. 1. 8. 7. 8. 1. 4. 5. 5.]\n",
      "[9. 5. 1. 8. 7. 8. 1. 4. 5. 5.]\n",
      "[9 5 1 8 7 8 1 4 5 5]\n",
      "[9. 5. 1. 8. 7. 8. 1. 4. 5. 5.]\n"
     ]
    }
   ],
   "source": [
    "Z = np.random.uniform(0,10,10)\n",
    "\n",
    "print(Z - Z%1)\n",
    "print(Z // 1)\n",
    "print(np.floor(Z))\n",
    "print(Z.astype(int))\n",
    "print(np.trunc(Z))"
   ]
  },
  {
   "cell_type": "markdown",
   "id": "5a2e3d85",
   "metadata": {},
   "source": [
    "#### 37. Create a 5x5 matrix with row values ranging from 0 to 4 (★★☆)"
   ]
  },
  {
   "cell_type": "code",
   "execution_count": 63,
   "id": "1d974e8f",
   "metadata": {},
   "outputs": [
    {
     "name": "stdout",
     "output_type": "stream",
     "text": [
      "[[0 0 0 0 0]\n",
      " [1 1 1 1 1]\n",
      " [2 2 2 2 2]\n",
      " [3 3 3 3 3]\n",
      " [4 4 4 4 4]]\n"
     ]
    }
   ],
   "source": [
    "\n",
    "matrix = np.array([[i] * 5 for i in range(5)])\n",
    "\n",
    "print(matrix)"
   ]
  },
  {
   "cell_type": "markdown",
   "id": "9720e2d5",
   "metadata": {},
   "source": [
    "#### 38. Consider a generator function that generates 10 integers and use it to build an array (★☆☆)"
   ]
  },
  {
   "cell_type": "code",
   "execution_count": 64,
   "id": "e5dd8fc9",
   "metadata": {},
   "outputs": [
    {
     "name": "stdout",
     "output_type": "stream",
     "text": [
      "[0 1 2 3 4 5 6 7 8 9]\n"
     ]
    }
   ],
   "source": [
    "\n",
    "def integer_generator():\n",
    "    for i in range(10):\n",
    "        yield i\n",
    "\n",
    "array = np.fromiter(integer_generator(), dtype=int)\n",
    "\n",
    "print(array)"
   ]
  },
  {
   "cell_type": "markdown",
   "id": "c6f2c912",
   "metadata": {},
   "source": [
    "#### 39. Create a vector of size 10 with values ranging from 0 to 1, both excluded (★★☆)"
   ]
  },
  {
   "cell_type": "code",
   "execution_count": 66,
   "id": "6aaa27d3",
   "metadata": {},
   "outputs": [
    {
     "name": "stdout",
     "output_type": "stream",
     "text": [
      "[0.1 0.2 0.3 0.4 0.5 0.6 0.7 0.8 0.9]\n"
     ]
    }
   ],
   "source": [
    "\n",
    "vector = np.linspace(0, 1, 11)[1:-1]\n",
    "\n",
    "print(vector)"
   ]
  },
  {
   "cell_type": "markdown",
   "id": "a36d6ee4",
   "metadata": {},
   "source": [
    "#### 40. Create a random vector of size 10 and sort it (★★☆)"
   ]
  },
  {
   "cell_type": "code",
   "execution_count": 1,
   "id": "e589d216",
   "metadata": {},
   "outputs": [
    {
     "name": "stdout",
     "output_type": "stream",
     "text": [
      "[0.07084313 0.26046905 0.3237031  0.35808117 0.36220337 0.452\n",
      " 0.71544445 0.72750087 0.74653624 0.79388377]\n"
     ]
    }
   ],
   "source": [
    "import numpy as np\n",
    "\n",
    "# Create a random vector of size 10\n",
    "random_vector = np.random.rand(10)\n",
    "\n",
    "# Sort the vector\n",
    "sorted_vector = np.sort(random_vector)\n",
    "\n",
    "print(sorted_vector)"
   ]
  },
  {
   "cell_type": "markdown",
   "id": "0fb4ad68",
   "metadata": {},
   "source": [
    "#### 41. How to sum a small array faster than np.sum? (★★☆)"
   ]
  },
  {
   "cell_type": "code",
   "execution_count": null,
   "id": "a1ba05a0",
   "metadata": {},
   "outputs": [
    {
     "name": "stdout",
     "output_type": "stream",
     "text": [
      "15 15\n"
     ]
    }
   ],
   "source": [
    "\n",
    "small_array = np.array([1, 2, 3, 4, 5])\n",
    "\n",
    "result1 = np.sum(small_array)\n",
    "\n",
    "result2 = sum(small_array)\n",
    "\n",
    "print(result1, result2)"
   ]
  },
  {
   "cell_type": "markdown",
   "id": "024ac365",
   "metadata": {},
   "source": [
    "#### 42. Consider two random array A and B, check if they are equal (★★☆)"
   ]
  },
  {
   "cell_type": "code",
   "execution_count": 5,
   "id": "7db3846d",
   "metadata": {},
   "outputs": [
    {
     "name": "stdout",
     "output_type": "stream",
     "text": [
      "False\n"
     ]
    }
   ],
   "source": [
    "A = np.random.randint(0,2,5)\n",
    "B = np.random.randint(0,2,5)\n",
    "\n",
    "equal = np.array_equal(A,B)\n",
    "print(equal)"
   ]
  },
  {
   "cell_type": "markdown",
   "id": "c68d2401",
   "metadata": {},
   "source": [
    "#### 43. Make an array immutable (read-only) (★★☆)"
   ]
  },
  {
   "cell_type": "code",
   "execution_count": null,
   "id": "7828539d",
   "metadata": {},
   "outputs": [
    {
     "name": "stdout",
     "output_type": "stream",
     "text": [
      "Original array:\n",
      "[1 2 3 4 5]\n",
      "\n",
      "Attempting to modify the array:\n",
      "Error: assignment destination is read-only\n",
      "\n",
      "Immutable copy:\n",
      "[1 2 3 4 5]\n",
      "Error: assignment destination is read-only\n"
     ]
    }
   ],
   "source": [
    "import numpy as np\n",
    "\n",
    "arr = np.array([1, 2, 3, 4, 5])\n",
    "\n",
    "print(\"Original array:\")\n",
    "print(arr)\n",
    "\n",
    "arr.flags.writeable = False\n",
    "\n",
    "print(\"\\nAttempting to modify the array:\")\n",
    "try:\n",
    "    arr[0] = 10\n",
    "except ValueError as e:\n",
    "    print(f\"Error: {e}\")\n",
    "\n",
    "immutable_copy = arr.copy()\n",
    "immutable_copy.flags.writeable = False\n",
    "\n",
    "print(\"\\nImmutable copy:\")\n",
    "print(immutable_copy)\n",
    "\n",
    "try:\n",
    "    immutable_copy[2] = 20\n",
    "except ValueError as e:\n",
    "    print(f\"Error: {e}\")"
   ]
  },
  {
   "cell_type": "markdown",
   "id": "55df6280",
   "metadata": {},
   "source": [
    "#### 44. Consider a random 10x2 matrix representing cartesian coordinates, convert them to polar coordinates (★★☆)"
   ]
  },
  {
   "cell_type": "code",
   "execution_count": 13,
   "id": "f1c86ea0",
   "metadata": {},
   "outputs": [
    {
     "name": "stdout",
     "output_type": "stream",
     "text": [
      "Cartesian Coordinates:\n",
      "[[0.97540425 0.24603773]\n",
      " [0.05779718 0.68294542]\n",
      " [0.36778893 0.42527022]\n",
      " [0.89539736 0.61069699]\n",
      " [0.095219   0.85592316]\n",
      " [0.58636258 0.81625414]\n",
      " [0.09376439 0.00411763]\n",
      " [0.17386549 0.63871245]\n",
      " [0.99200466 0.00592413]\n",
      " [0.67420837 0.75523928]]\n",
      "\n",
      "Polar Coordinates:\n",
      "[[1.00595627 0.24708749]\n",
      " [0.68538672 1.48636823]\n",
      " [0.56224857 0.85775209]\n",
      " [1.0838299  0.59857043]\n",
      " [0.8612033  1.46000475]\n",
      " [1.00503328 0.94785561]\n",
      " [0.09385476 0.04388642]\n",
      " [0.66195378 1.30502351]\n",
      " [0.99202235 0.0059718 ]\n",
      " [1.01239483 0.84202443]]\n"
     ]
    }
   ],
   "source": [
    "\n",
    "cartesian_coords = np.random.rand(10, 2)\n",
    "\n",
    "x = cartesian_coords[:, 0]\n",
    "y = cartesian_coords[:, 1]\n",
    "\n",
    "r = np.sqrt(x**2 + y**2)\n",
    "theta = np.arctan2(y, x)\n",
    "\n",
    "polar_coords = np.column_stack((r, theta))\n",
    "\n",
    "print(\"Cartesian Coordinates:\")\n",
    "print(cartesian_coords)\n",
    "\n",
    "print(\"\\nPolar Coordinates:\")\n",
    "print(polar_coords)"
   ]
  },
  {
   "cell_type": "markdown",
   "id": "2f60f1ec",
   "metadata": {},
   "source": [
    "#### 45. Create random vector of size 10 and replace the maximum value by 0 (★★☆)"
   ]
  },
  {
   "cell_type": "code",
   "execution_count": 14,
   "id": "d9f48f1c",
   "metadata": {},
   "outputs": [
    {
     "name": "stdout",
     "output_type": "stream",
     "text": [
      "Original vector: [0.25533999 0.61788421 0.8678068  0.87138475 0.3742381  0.\n",
      " 0.26949958 0.43740625 0.19234301 0.3260064 ]\n",
      "Vector with maximum value replaced by 0: [0.25533999 0.61788421 0.8678068  0.87138475 0.3742381  0.\n",
      " 0.26949958 0.43740625 0.19234301 0.3260064 ]\n"
     ]
    }
   ],
   "source": [
    "import numpy as np\n",
    "\n",
    "# Create a random vector of size 10\n",
    "random_vector = np.random.rand(10)\n",
    "\n",
    "# Find the index of the maximum value\n",
    "max_index = np.argmax(random_vector)\n",
    "\n",
    "# Replace the maximum value with 0\n",
    "random_vector[max_index] = 0\n",
    "\n",
    "print(\"Original vector:\", random_vector)\n",
    "print(\"Vector with maximum value replaced by 0:\", random_vector)"
   ]
  },
  {
   "cell_type": "markdown",
   "id": "084e8ad4",
   "metadata": {},
   "source": [
    "#### 46. Create a structured array with `x` and `y` coordinates covering the [0,1]x[0,1] area (★★☆)"
   ]
  },
  {
   "cell_type": "code",
   "execution_count": 17,
   "id": "58b47c13",
   "metadata": {},
   "outputs": [
    {
     "name": "stdout",
     "output_type": "stream",
     "text": [
      "[[(0.  , 0.  ) (0.25, 0.  ) (0.5 , 0.  ) (0.75, 0.  ) (1.  , 0.  )]\n",
      " [(0.  , 0.25) (0.25, 0.25) (0.5 , 0.25) (0.75, 0.25) (1.  , 0.25)]\n",
      " [(0.  , 0.5 ) (0.25, 0.5 ) (0.5 , 0.5 ) (0.75, 0.5 ) (1.  , 0.5 )]\n",
      " [(0.  , 0.75) (0.25, 0.75) (0.5 , 0.75) (0.75, 0.75) (1.  , 0.75)]\n",
      " [(0.  , 1.  ) (0.25, 1.  ) (0.5 , 1.  ) (0.75, 1.  ) (1.  , 1.  )]]\n"
     ]
    }
   ],
   "source": [
    "Z = np.zeros((5,5), [('x',float),('y',float)])\n",
    "Z['x'], Z['y'] = np.meshgrid(np.linspace(0,1,5),\n",
    "                             np.linspace(0,1,5))\n",
    "print(Z)"
   ]
  },
  {
   "cell_type": "markdown",
   "id": "d7b9bc42",
   "metadata": {},
   "source": [
    "#### 47. Given two arrays, X and Y, construct the Cauchy matrix C (Cij =1/(xi - yj)) (★★☆)"
   ]
  },
  {
   "cell_type": "code",
   "execution_count": 19,
   "id": "a24824fb",
   "metadata": {},
   "outputs": [
    {
     "name": "stdout",
     "output_type": "stream",
     "text": [
      "3638.163637117973\n"
     ]
    }
   ],
   "source": [
    "X = np.arange(8)\n",
    "Y = X + 0.5\n",
    "C = 1.0 / np.subtract.outer(X, Y)\n",
    "print(np.linalg.det(C))"
   ]
  },
  {
   "cell_type": "markdown",
   "id": "65ebc11b",
   "metadata": {},
   "source": [
    "#### 48. Print the minimum and maximum representable value for each numpy scalar type (★★☆)"
   ]
  },
  {
   "cell_type": "code",
   "execution_count": 24,
   "id": "e45d38fb",
   "metadata": {},
   "outputs": [
    {
     "name": "stdout",
     "output_type": "stream",
     "text": [
      "-128\n",
      "127\n",
      "-2147483648\n",
      "2147483647\n",
      "-9223372036854775808\n",
      "9223372036854775807\n",
      "-3.4028235e+38\n",
      "3.4028235e+38\n",
      "1.1920929e-07\n",
      "-1.7976931348623157e+308\n",
      "1.7976931348623157e+308\n",
      "2.220446049250313e-16\n"
     ]
    }
   ],
   "source": [
    "for dtype in [np.int8, np.int32, np.int64]:\n",
    "   print(np.iinfo(dtype).min)\n",
    "   print(np.iinfo(dtype).max)\n",
    "for dtype in [np.float32, np.float64]:\n",
    "   print(np.finfo(dtype).min)\n",
    "   print(np.finfo(dtype).max)\n",
    "   print(np.finfo(dtype).eps)"
   ]
  },
  {
   "cell_type": "markdown",
   "id": "9b317a98",
   "metadata": {},
   "source": [
    "#### 49. How to print all the values of an array? (★★☆)"
   ]
  },
  {
   "cell_type": "code",
   "execution_count": 12,
   "id": "309cdeb9",
   "metadata": {},
   "outputs": [
    {
     "name": "stdout",
     "output_type": "stream",
     "text": [
      "1\n",
      "2\n",
      "3\n",
      "4\n",
      "5\n",
      "[1, 2, 3, 4, 5]\n"
     ]
    }
   ],
   "source": [
    "my_array = [1, 2, 3, 4, 5]\n",
    "\n",
    "# Using a for loop:\n",
    "for element in my_array:\n",
    "    print(element)\n",
    "\n",
    "# Using the built-in `print()` function:\n",
    "print(my_array)"
   ]
  },
  {
   "cell_type": "markdown",
   "id": "b580f9d0",
   "metadata": {},
   "source": [
    "#### 50. How to find the closest value (to a given scalar) in a vector? (★★☆)"
   ]
  },
  {
   "cell_type": "code",
   "execution_count": 25,
   "id": "ebfb6714",
   "metadata": {},
   "outputs": [
    {
     "name": "stdout",
     "output_type": "stream",
     "text": [
      "Closest value: 5.6\n"
     ]
    }
   ],
   "source": [
    "import numpy as np\n",
    "\n",
    "def find_closest_value(array, value):\n",
    "  \"\"\"Finds the closest value to a given scalar in a NumPy array.\n",
    "\n",
    "  Args:\n",
    "    array: The input NumPy array.\n",
    "    value: The scalar value to find the closest value to.\n",
    "\n",
    "  Returns:\n",
    "    The closest value in the array.\n",
    "  \"\"\"\n",
    "\n",
    "  idx = (np.abs(array - value)).argmin()\n",
    "  return array[idx]\n",
    "\n",
    "# Example usage:\n",
    "vector = np.array([1.2, 3.4, 5.6, 7.8, 9.0])\n",
    "target_value = 6.5\n",
    "\n",
    "closest_value = find_closest_value(vector, target_value)\n",
    "print(\"Closest value:\", closest_value)"
   ]
  },
  {
   "cell_type": "markdown",
   "id": "602e6252",
   "metadata": {},
   "source": [
    "#### 51. Create a structured array representing a position (x,y) and a color (r,g,b) (★★☆)"
   ]
  },
  {
   "cell_type": "code",
   "execution_count": 26,
   "id": "cf002b3a",
   "metadata": {},
   "outputs": [
    {
     "name": "stdout",
     "output_type": "stream",
     "text": [
      "[((1. , 2.5), (255,   0,   0)) ((3.2, 4.1), (  0, 255,   0))\n",
      " ((5.7, 6.8), (  0,   0, 255))]\n"
     ]
    }
   ],
   "source": [
    "import numpy as np\n",
    "\n",
    "# Define the structure of the array\n",
    "dtype = [('position', [('x', float), ('y', float)]),\n",
    "         ('color', [('r', int), ('g', int), ('b', int)])]\n",
    "\n",
    "# Create the array\n",
    "positions_and_colors = np.array([\n",
    "    ((1.0, 2.5), (255, 0, 0)),\n",
    "    ((3.2, 4.1), (0, 255, 0)),\n",
    "    ((5.7, 6.8), (0, 0, 255))\n",
    "], dtype=dtype)\n",
    "\n",
    "print(positions_and_colors)"
   ]
  },
  {
   "cell_type": "markdown",
   "id": "78bcd92f",
   "metadata": {},
   "source": [
    "#### 52. Consider a random vector with shape (100,2) representing coordinates, find point by point distances (★★☆)"
   ]
  },
  {
   "cell_type": "code",
   "execution_count": 27,
   "id": "fea7f9a6",
   "metadata": {},
   "outputs": [
    {
     "name": "stdout",
     "output_type": "stream",
     "text": [
      "[[0.         0.66664945 0.73420978 ... 0.52280915 0.27706252 0.91129584]\n",
      " [0.66664945 0.         1.00657976 ... 0.26208701 0.56909485 0.40606056]\n",
      " [0.73420978 1.00657976 0.         ... 0.74449378 0.52786321 0.928781  ]\n",
      " ...\n",
      " [0.52280915 0.26208701 0.74449378 ... 0.         0.34160862 0.38975866]\n",
      " [0.27706252 0.56909485 0.52786321 ... 0.34160862 0.         0.69798734]\n",
      " [0.91129584 0.40606056 0.928781   ... 0.38975866 0.69798734 0.        ]]\n"
     ]
    }
   ],
   "source": [
    "import numpy as np\n",
    "\n",
    "# Generate a random vector of shape (100, 2)\n",
    "points = np.random.rand(100, 2)\n",
    "\n",
    "# Calculate pairwise Euclidean distances\n",
    "distances = np.sqrt(np.sum((points[:, np.newaxis] - points) ** 2, axis=-1))\n",
    "\n",
    "print(distances)"
   ]
  },
  {
   "cell_type": "markdown",
   "id": "343c5a85",
   "metadata": {},
   "source": [
    "#### 53. How to convert a float (32 bits) array into an integer (32 bits) in place?"
   ]
  },
  {
   "cell_type": "code",
   "execution_count": 34,
   "id": "fc1b687b",
   "metadata": {},
   "outputs": [
    {
     "name": "stdout",
     "output_type": "stream",
     "text": [
      "[1 3 5]\n"
     ]
    }
   ],
   "source": [
    "import numpy as np\n",
    "\n",
    "# Create a float32 array\n",
    "float_array = np.array([1.2, 3.4, 5.6], dtype=np.float32)\n",
    "\n",
    "# Convert to int32 in-place\n",
    "float_array = float_array.astype(np.int32)\n",
    "\n",
    "print(float_array)  "
   ]
  },
  {
   "cell_type": "markdown",
   "id": "a69e1ace",
   "metadata": {},
   "source": [
    "#### 54. How to read the following file? (★★☆)\n",
    "```\n",
    "1, 2, 3, 4, 5\n",
    "6,  ,  , 7, 8\n",
    " ,  , 9,10,11\n",
    "```"
   ]
  },
  {
   "cell_type": "code",
   "execution_count": 35,
   "id": "1c7957d4",
   "metadata": {},
   "outputs": [
    {
     "name": "stdout",
     "output_type": "stream",
     "text": [
      "[1, 2, 3, 4, 5]\n",
      "[6, None, None, 7, 8]\n",
      "[None, None, 9, 10, 11]\n"
     ]
    }
   ],
   "source": [
    "file_content = \"\"\"\n",
    "1, 2, 3, 4, 5\n",
    "6,  ,  , 7, 8\n",
    " ,  , 9,10,11\n",
    "\"\"\"\n",
    "\n",
    "# Convert the file content to a list of lists, handling empty values\n",
    "matrix = []\n",
    "for line in file_content.strip().split('\\n'):\n",
    "    matrix.append([int(num) if num.strip() else None for num in line.split(',')])\n",
    "\n",
    "for row in matrix:\n",
    "    print(row)\n"
   ]
  },
  {
   "cell_type": "markdown",
   "id": "c23bd80d",
   "metadata": {},
   "source": [
    "#### 55. What is the equivalent of enumerate for numpy arrays? (★★☆)"
   ]
  },
  {
   "cell_type": "code",
   "execution_count": 36,
   "id": "d95d9578",
   "metadata": {},
   "outputs": [
    {
     "name": "stdout",
     "output_type": "stream",
     "text": [
      "(0, 0) 1\n",
      "(0, 1) 2\n",
      "(0, 2) 3\n",
      "(1, 0) 4\n",
      "(1, 1) 5\n",
      "(1, 2) 6\n",
      "(2, 0) 7\n",
      "(2, 1) 8\n",
      "(2, 2) 9\n"
     ]
    }
   ],
   "source": [
    "import numpy as np\n",
    "\n",
    "# Creating a sample NumPy array\n",
    "array = np.array([[1, 2, 3], [4, 5, 6], [7, 8, 9]])\n",
    "\n",
    "# Using ndenumerate to iterate over the array\n",
    "for index, value in np.ndenumerate(array):\n",
    "    print(index, value)\n"
   ]
  },
  {
   "cell_type": "markdown",
   "id": "2153a5ec",
   "metadata": {},
   "source": [
    "#### 56. Generate a generic 2D Gaussian-like array (★★☆)"
   ]
  },
  {
   "cell_type": "code",
   "execution_count": 37,
   "id": "61122d1e",
   "metadata": {},
   "outputs": [
    {
     "name": "stdout",
     "output_type": "stream",
     "text": [
      "[[0.01831564 0.0403616  0.07300087 0.10836802 0.13203459 0.13203459\n",
      "  0.10836802 0.07300087 0.0403616  0.01831564]\n",
      " [0.0403616  0.08894358 0.16086971 0.2388072  0.29096046 0.29096046\n",
      "  0.2388072  0.16086971 0.08894358 0.0403616 ]\n",
      " [0.07300087 0.16086971 0.29096046 0.43192377 0.52625189 0.52625189\n",
      "  0.43192377 0.29096046 0.16086971 0.07300087]\n",
      " [0.10836802 0.2388072  0.43192377 0.64118039 0.7812082  0.7812082\n",
      "  0.64118039 0.43192377 0.2388072  0.10836802]\n",
      " [0.13203459 0.29096046 0.52625189 0.7812082  0.95181678 0.95181678\n",
      "  0.7812082  0.52625189 0.29096046 0.13203459]\n",
      " [0.13203459 0.29096046 0.52625189 0.7812082  0.95181678 0.95181678\n",
      "  0.7812082  0.52625189 0.29096046 0.13203459]\n",
      " [0.10836802 0.2388072  0.43192377 0.64118039 0.7812082  0.7812082\n",
      "  0.64118039 0.43192377 0.2388072  0.10836802]\n",
      " [0.07300087 0.16086971 0.29096046 0.43192377 0.52625189 0.52625189\n",
      "  0.43192377 0.29096046 0.16086971 0.07300087]\n",
      " [0.0403616  0.08894358 0.16086971 0.2388072  0.29096046 0.29096046\n",
      "  0.2388072  0.16086971 0.08894358 0.0403616 ]\n",
      " [0.01831564 0.0403616  0.07300087 0.10836802 0.13203459 0.13203459\n",
      "  0.10836802 0.07300087 0.0403616  0.01831564]]\n"
     ]
    }
   ],
   "source": [
    "import numpy as np\n",
    "\n",
    "def generate_2d_gaussian(size, sigma):\n",
    "    # Create a coordinate grid\n",
    "    x, y = np.meshgrid(np.linspace(-1, 1, size), np.linspace(-1, 1, size))\n",
    "    \n",
    "    # Calculate the 2D Gaussian\n",
    "    d = np.sqrt(x*x + y*y)\n",
    "    g = np.exp(-((d**2) / (2.0 * sigma**2)))\n",
    "    \n",
    "    return g\n",
    "\n",
    "# Parameters\n",
    "size = 10  # Size of the array (size x size)\n",
    "sigma = 0.5  # Standard deviation\n",
    "\n",
    "# Generate the 2D Gaussian-like array\n",
    "gaussian_array = generate_2d_gaussian(size, sigma)\n",
    "\n",
    "print(gaussian_array)\n"
   ]
  },
  {
   "cell_type": "markdown",
   "id": "2e76d589",
   "metadata": {},
   "source": [
    "#### 57. How to randomly place p elements in a 2D array? (★★☆)"
   ]
  },
  {
   "cell_type": "code",
   "execution_count": 39,
   "id": "0c2e4fcc",
   "metadata": {},
   "outputs": [
    {
     "data": {
      "image/png": "[encoded data removed]",
      "text/plain": [
       "<Figure size 640x480 with 2 Axes>"
      ]
     },
     "metadata": {},
     "output_type": "display_data"
    }
   ],
   "source": [
    "import numpy as np\n",
    "import matplotlib.pyplot as plt\n",
    "\n",
    "# Parameters for the Gaussian\n",
    "size = 100  # Size of the array (size x size)\n",
    "sigma_x = 10  # Standard deviation in x\n",
    "sigma_y = 15  # Standard deviation in y\n",
    "x0, y0 = size // 2, size // 2  # Center of the Gaussian\n",
    "amplitude = 1  # Peak value\n",
    "\n",
    "# Generate a grid of (x, y) coordinates\n",
    "x = np.linspace(0, size - 1, size)\n",
    "y = np.linspace(0, size - 1, size)\n",
    "x, y = np.meshgrid(x, y)\n",
    "\n",
    "# Calculate the Gaussian function\n",
    "gaussian = amplitude * np.exp(-(((x - x0)**2) / (2 * sigma_x**2) + ((y - y0)**2) / (2 * sigma_y**2)))\n",
    "\n",
    "# Display the result\n",
    "plt.imshow(gaussian, extent=(0, size, 0, size), origin='lower', cmap='viridis')\n",
    "plt.colorbar(label=\"Intensity\")\n",
    "plt.title(\"2D Gaussian-like Array\")\n",
    "plt.xlabel(\"X\")\n",
    "plt.ylabel(\"Y\")\n",
    "plt.show()\n"
   ]
  },
  {
   "cell_type": "markdown",
   "id": "8b3933eb",
   "metadata": {},
   "source": [
    "#### 58. Subtract the mean of each row of a matrix (★★☆)"
   ]
  },
  {
   "cell_type": "code",
   "execution_count": 40,
   "id": "a306c9ef",
   "metadata": {},
   "outputs": [
    {
     "name": "stdout",
     "output_type": "stream",
     "text": [
      "Original Matrix:\n",
      "[[1 2 3]\n",
      " [4 5 6]\n",
      " [7 8 9]]\n",
      "\n",
      "Row Means:\n",
      "[[2.]\n",
      " [5.]\n",
      " [8.]]\n",
      "\n",
      "Centered Matrix (Row-wise Mean Subtracted):\n",
      "[[-1.  0.  1.]\n",
      " [-1.  0.  1.]\n",
      " [-1.  0.  1.]]\n"
     ]
    }
   ],
   "source": [
    "import numpy as np\n",
    "\n",
    "# Example matrix\n",
    "matrix = np.array([[1, 2, 3],\n",
    "                   [4, 5, 6],\n",
    "                   [7, 8, 9]])\n",
    "\n",
    "# Subtract the mean of each row\n",
    "row_means = matrix.mean(axis=1, keepdims=True)  # Compute row means\n",
    "centered_matrix = matrix - row_means  # Subtract row means\n",
    "\n",
    "print(\"Original Matrix:\")\n",
    "print(matrix)\n",
    "print(\"\\nRow Means:\")\n",
    "print(row_means)\n",
    "print(\"\\nCentered Matrix (Row-wise Mean Subtracted):\")\n",
    "print(centered_matrix)\n"
   ]
  },
  {
   "cell_type": "markdown",
   "id": "ea8807c0",
   "metadata": {},
   "source": [
    "#### 59. How to sort an array by the nth column? (★★☆)"
   ]
  },
  {
   "cell_type": "code",
   "execution_count": 41,
   "id": "cc89a699",
   "metadata": {},
   "outputs": [
    {
     "name": "stdout",
     "output_type": "stream",
     "text": [
      "Original Array:\n",
      "[[3 2 5]\n",
      " [1 4 2]\n",
      " [7 0 1]]\n",
      "\n",
      "Sorted Array by Column 2 :\n",
      "[[7 0 1]\n",
      " [3 2 5]\n",
      " [1 4 2]]\n"
     ]
    }
   ],
   "source": [
    "import numpy as np\n",
    "\n",
    "# Example 2D array\n",
    "array = np.array([[3, 2, 5],\n",
    "                  [1, 4, 2],\n",
    "                  [7, 0, 1]])\n",
    "\n",
    "# Column index to sort by (e.g., 1 for the second column)\n",
    "n = 1\n",
    "\n",
    "# Sort by the nth column\n",
    "sorted_array = array[array[:, n].argsort()]\n",
    "\n",
    "print(\"Original Array:\")\n",
    "print(array)\n",
    "print(\"\\nSorted Array by Column\", n + 1, \":\")\n",
    "print(sorted_array)\n"
   ]
  },
  {
   "cell_type": "markdown",
   "id": "00fa00a1",
   "metadata": {},
   "source": [
    "#### 60. How to tell if a given 2D array has null columns? (★★☆)"
   ]
  },
  {
   "cell_type": "code",
   "execution_count": 43,
   "id": "3436e165",
   "metadata": {},
   "outputs": [
    {
     "name": "stdout",
     "output_type": "stream",
     "text": [
      "Null Columns (All Zeros): [ True False  True]\n",
      "Column Indices with Null Columns: [0 2]\n"
     ]
    }
   ],
   "source": [
    "import numpy as np\n",
    "\n",
    "# Example 2D array\n",
    "array = np.array([[0, 2, 0],\n",
    "                  [0, 0, 0],\n",
    "                  [0, 1, 0]])\n",
    "\n",
    "# Check for all-zero columns\n",
    "null_columns = np.all(array == 0, axis=0)\n",
    "\n",
    "# Result\n",
    "print(\"Null Columns (All Zeros):\", null_columns)\n",
    "print(\"Column Indices with Null Columns:\", np.where(null_columns)[0])\n"
   ]
  },
  {
   "cell_type": "markdown",
   "id": "5a65c7a2",
   "metadata": {},
   "source": [
    "#### 61. Find the nearest value from a given value in an array (★★☆)"
   ]
  },
  {
   "cell_type": "code",
   "execution_count": 45,
   "id": "73f149d6",
   "metadata": {},
   "outputs": [
    {
     "name": "stdout",
     "output_type": "stream",
     "text": [
      "Array: [10 20 30 40 50]\n",
      "Target Value: 34\n",
      "Nearest Value: 30\n"
     ]
    }
   ],
   "source": [
    "import numpy as np\n",
    "\n",
    "# Example array and target value\n",
    "array = np.array([10, 20, 30, 40, 50])\n",
    "target = 34\n",
    "\n",
    "# Find the nearest value\n",
    "nearest_value = array[np.abs(array - target).argmin()]\n",
    "\n",
    "print(\"Array:\", array)\n",
    "print(\"Target Value:\", target)\n",
    "print(\"Nearest Value:\", nearest_value)\n"
   ]
  },
  {
   "cell_type": "markdown",
   "id": "dd83e8af",
   "metadata": {},
   "source": [
    "#### 62. Considering two arrays with shape (1,3) and (3,1), how to compute their sum using an iterator? (★★☆)"
   ]
  },
  {
   "cell_type": "code",
   "execution_count": 46,
   "id": "29a709a1",
   "metadata": {},
   "outputs": [
    {
     "name": "stdout",
     "output_type": "stream",
     "text": [
      "Array 1:\n",
      "[[1 2 3]]\n",
      "\n",
      "Array 2:\n",
      "[[4]\n",
      " [5]\n",
      " [6]]\n",
      "\n",
      "Sum:\n",
      "[[5 6 7]\n",
      " [6 7 8]\n",
      " [7 8 9]]\n"
     ]
    }
   ],
   "source": [
    "import numpy as np\n",
    "\n",
    "# Define two arrays\n",
    "array1 = np.array([[1, 2, 3]])  # Shape (1, 3)\n",
    "array2 = np.array([[4], [5], [6]])  # Shape (3, 1)\n",
    "\n",
    "# Create a broadcasting iterator\n",
    "it = np.nditer([array1, array2, None],  # Input arrays and an output placeholder\n",
    "               flags=['external_loop'], \n",
    "               op_axes=[[1, -1], [-1, 0], None])  # Specify broadcasting axes\n",
    "\n",
    "# Compute the sum using the iterator\n",
    "for x, y, z in it:\n",
    "    z[...] = x + y  # Assign the sum to the output placeholder\n",
    "\n",
    "# Get the result\n",
    "result = it.operands[2]\n",
    "\n",
    "print(\"Array 1:\")\n",
    "print(array1)\n",
    "print(\"\\nArray 2:\")\n",
    "print(array2)\n",
    "print(\"\\nSum:\")\n",
    "print(result)\n"
   ]
  },
  {
   "cell_type": "markdown",
   "id": "6c042efa",
   "metadata": {},
   "source": [
    "#### 63. Create an array class that has a name attribute (★★☆)"
   ]
  },
  {
   "cell_type": "code",
   "execution_count": 47,
   "id": "45b3d2e0",
   "metadata": {},
   "outputs": [
    {
     "name": "stdout",
     "output_type": "stream",
     "text": [
      "Array Name: MyArray\n",
      "Array Data:\n",
      " [[1 2 3]\n",
      " [4 5 6]]\n",
      "\n",
      "Sliced Array Name: MyArray\n",
      "Sliced Array Data:\n",
      " [1 2 3]\n"
     ]
    }
   ],
   "source": [
    "import numpy as np\n",
    "\n",
    "class NamedArray(np.ndarray):\n",
    "    def __new__(cls, input_array, name=\"Unnamed\"):\n",
    "        # Create the ndarray instance\n",
    "        obj = np.asarray(input_array).view(cls)\n",
    "        # Add the name attribute\n",
    "        obj.name = name\n",
    "        return obj\n",
    "\n",
    "    def __array_finalize__(self, obj):\n",
    "        # Called when the object is created from a view or slicing\n",
    "        if obj is None:\n",
    "            return\n",
    "        self.name = getattr(obj, 'name', \"Unnamed\")  # Preserve the name attribute\n",
    "\n",
    "# Example usage\n",
    "array = NamedArray([[1, 2, 3], [4, 5, 6]], name=\"MyArray\")\n",
    "\n",
    "print(\"Array Name:\", array.name)\n",
    "print(\"Array Data:\\n\", array)\n",
    "\n",
    "# Slicing the array (preserves the name)\n",
    "sliced_array = array[0]\n",
    "print(\"\\nSliced Array Name:\", sliced_array.name)\n",
    "print(\"Sliced Array Data:\\n\", sliced_array)\n"
   ]
  },
  {
   "cell_type": "markdown",
   "id": "0a075c3d",
   "metadata": {},
   "source": [
    "#### 64. Consider a given vector, how to add 1 to each element indexed by a second vector (be careful with repeated indices)? (★★★)"
   ]
  },
  {
   "cell_type": "code",
   "execution_count": 52,
   "id": "36c50470",
   "metadata": {},
   "outputs": [
    {
     "name": "stdout",
     "output_type": "stream",
     "text": [
      "Updated Vector: [1 0 2 0 1]\n"
     ]
    }
   ],
   "source": [
    "\n",
    "vector = np.array([0, 0, 0, 0, 0])\n",
    "                   \n",
    "indices = np.array([0, 2, 2, 4])\n",
    "\n",
    "np.add.at(vector, indices, 1)\n",
    "\n",
    "print(\"Updated Vector:\", vector)\n"
   ]
  },
  {
   "cell_type": "markdown",
   "id": "0fb2f0c5",
   "metadata": {},
   "source": [
    "#### 65. How to accumulate elements of a vector (X) to an array (F) based on an index list (I)? (★★★)"
   ]
  },
  {
   "cell_type": "code",
   "execution_count": 51,
   "id": "58aa5f82",
   "metadata": {},
   "outputs": [
    {
     "name": "stdout",
     "output_type": "stream",
     "text": [
      "[0. 7. 0. 6. 5. 0. 0. 0. 0. 3.]\n"
     ]
    }
   ],
   "source": [
    "X = [1,2,3,4,5,6]\n",
    "I = [1,3,9,3,4,1]\n",
    "F = np.bincount(I,X)\n",
    "print(F)"
   ]
  },
  {
   "cell_type": "markdown",
   "id": "d89dc506",
   "metadata": {},
   "source": [
    "#### 66. Considering a (w,h,3) image of (dtype=ubyte), compute the number of unique colors (★★☆)"
   ]
  },
  {
   "cell_type": "code",
   "execution_count": 54,
   "id": "8fb43a49",
   "metadata": {},
   "outputs": [
    {
     "name": "stdout",
     "output_type": "stream",
     "text": [
      "Number of unique colors: 9997\n"
     ]
    }
   ],
   "source": [
    "\n",
    "image = np.random.randint(0, 256, size=(100, 100, 3), dtype=np.uint8)\n",
    "\n",
    "reshaped_image = image.reshape(-1, 3)\n",
    "\n",
    "unique_colors = np.unique(reshaped_image, axis=0)\n",
    "\n",
    "num_unique_colors = unique_colors.shape[0]\n",
    "\n",
    "print(\"Number of unique colors:\", num_unique_colors)\n"
   ]
  },
  {
   "cell_type": "markdown",
   "id": "535a5d81",
   "metadata": {},
   "source": [
    "#### 67. Considering a four dimensions array, how to get sum over the last two axis at once? (★★★)"
   ]
  },
  {
   "cell_type": "code",
   "execution_count": 55,
   "id": "f954ab9d",
   "metadata": {},
   "outputs": [
    {
     "name": "stdout",
     "output_type": "stream",
     "text": [
      "Original shape: (3, 4, 5, 6)\n",
      "Sum over last two axes: (3, 4)\n",
      "[[136 118 129 139]\n",
      " [145 143 143 152]\n",
      " [101 167 144 143]]\n"
     ]
    }
   ],
   "source": [
    "\n",
    "arr = np.random.randint(0, 10, size=(3, 4, 5, 6))\n",
    "\n",
    "sum_result = np.sum(arr, axis=(-2, -1))\n",
    "\n",
    "print(\"Original shape:\", arr.shape)\n",
    "print(\"Sum over last two axes:\", sum_result.shape)\n",
    "print(sum_result)\n"
   ]
  },
  {
   "cell_type": "markdown",
   "id": "eee66d3c",
   "metadata": {},
   "source": [
    "#### 68. Considering a one-dimensional vector D, how to compute means of subsets of D using a vector S of same size describing subset  indices? (★★★)"
   ]
  },
  {
   "cell_type": "code",
   "execution_count": 57,
   "id": "8929773a",
   "metadata": {},
   "outputs": [
    {
     "name": "stdout",
     "output_type": "stream",
     "text": [
      "Unique subset indices: [0 1 2]\n",
      "Means of subsets: [1.5 3.5 5.5]\n"
     ]
    }
   ],
   "source": [
    "\n",
    "D = np.array([1, 2, 3, 4, 5, 6])\n",
    "\n",
    "S = np.array([0, 0, 1, 1, 2, 2])\n",
    "\n",
    "unique_indices = np.unique(S) \n",
    "means = np.array([D[S == idx].mean() for idx in unique_indices])\n",
    "\n",
    "print(\"Unique subset indices:\", unique_indices)\n",
    "print(\"Means of subsets:\", means)\n"
   ]
  },
  {
   "cell_type": "markdown",
   "id": "f90d4c40",
   "metadata": {},
   "source": [
    "#### 69. How to get the diagonal of a dot product? (★★★)"
   ]
  },
  {
   "cell_type": "code",
   "execution_count": 59,
   "id": "b47d392d",
   "metadata": {},
   "outputs": [
    {
     "data": {
      "text/plain": [
       "array([1.63073481, 1.32038727, 1.65472665, 1.82068323, 1.91591006])"
      ]
     },
     "execution_count": 59,
     "metadata": {},
     "output_type": "execute_result"
    }
   ],
   "source": [
    "A = np.random.uniform(0,1,(5,5))\n",
    "B = np.random.uniform(0,1,(5,5))\n",
    "\n",
    "# Slow version\n",
    "np.diag(np.dot(A, B))\n",
    "\n",
    "# Fast version\n",
    "np.sum(A * B.T, axis=1)\n",
    "\n",
    "# Faster version\n",
    "np.einsum(\"ij,ji->i\", A, B)"
   ]
  },
  {
   "cell_type": "markdown",
   "id": "a8a97e7d",
   "metadata": {},
   "source": [
    "#### 70. Consider the vector [1, 2, 3, 4, 5], how to build a new vector with 3 consecutive zeros interleaved between each value? (★★★)"
   ]
  },
  {
   "cell_type": "code",
   "execution_count": 61,
   "id": "ee6c6c37",
   "metadata": {},
   "outputs": [
    {
     "name": "stdout",
     "output_type": "stream",
     "text": [
      "[1. 0. 0. 0. 2. 0. 0. 0. 3. 0. 0. 0. 4. 0. 0. 0. 5.]\n"
     ]
    }
   ],
   "source": [
    "Z = np.array([1,2,3,4,5])\n",
    "nz = 3\n",
    "Z0 = np.zeros(len(Z) + (len(Z)-1)*(nz))\n",
    "Z0[::nz+1] = Z\n",
    "print(Z0)"
   ]
  },
  {
   "cell_type": "markdown",
   "id": "d6a30d60",
   "metadata": {},
   "source": [
    "#### 71. Consider an array of dimension (5,5,3), how to mulitply it by an array with dimensions (5,5)? (★★★)"
   ]
  },
  {
   "cell_type": "code",
   "execution_count": 63,
   "id": "e9703f2e",
   "metadata": {},
   "outputs": [
    {
     "name": "stdout",
     "output_type": "stream",
     "text": [
      "[[[2. 2. 2.]\n",
      "  [2. 2. 2.]\n",
      "  [2. 2. 2.]\n",
      "  [2. 2. 2.]\n",
      "  [2. 2. 2.]]\n",
      "\n",
      " [[2. 2. 2.]\n",
      "  [2. 2. 2.]\n",
      "  [2. 2. 2.]\n",
      "  [2. 2. 2.]\n",
      "  [2. 2. 2.]]\n",
      "\n",
      " [[2. 2. 2.]\n",
      "  [2. 2. 2.]\n",
      "  [2. 2. 2.]\n",
      "  [2. 2. 2.]\n",
      "  [2. 2. 2.]]\n",
      "\n",
      " [[2. 2. 2.]\n",
      "  [2. 2. 2.]\n",
      "  [2. 2. 2.]\n",
      "  [2. 2. 2.]\n",
      "  [2. 2. 2.]]\n",
      "\n",
      " [[2. 2. 2.]\n",
      "  [2. 2. 2.]\n",
      "  [2. 2. 2.]\n",
      "  [2. 2. 2.]\n",
      "  [2. 2. 2.]]]\n"
     ]
    }
   ],
   "source": [
    "A = np.ones((5,5,3))\n",
    "B = 2*np.ones((5,5))\n",
    "print(A * B[:,:,None])"
   ]
  },
  {
   "cell_type": "markdown",
   "id": "bac359a9",
   "metadata": {},
   "source": [
    "#### 72. How to swap two rows of an array? (★★★)"
   ]
  },
  {
   "cell_type": "code",
   "execution_count": null,
   "id": "f1b432b1",
   "metadata": {},
   "outputs": [
    {
     "name": "stdout",
     "output_type": "stream",
     "text": [
      "Array after swapping rows:\n",
      "[[7 8 9]\n",
      " [4 5 6]\n",
      " [1 2 3]]\n"
     ]
    }
   ],
   "source": [
    "\n",
    "arr = np.array([[1, 2, 3], [4, 5, 6], [7, 8, 9]])\n",
    "\n",
    "row1, row2 = 0, 2\n",
    "\n",
    "arr[[row1, row2]] = arr[[row2, row1]]\n",
    "\n",
    "print(\"Array after swapping rows:\")\n",
    "print(arr)\n",
    "\n"
   ]
  },
  {
   "cell_type": "markdown",
   "id": "620c9f83",
   "metadata": {},
   "source": [
    "#### 73. Consider a set of 10 triplets describing 10 triangles (with shared vertices), find the set of unique line segments composing all the  triangles (★★★)"
   ]
  },
  {
   "cell_type": "code",
   "execution_count": 67,
   "id": "4e595ffc",
   "metadata": {},
   "outputs": [
    {
     "name": "stdout",
     "output_type": "stream",
     "text": [
      "[( 0, 16) ( 0, 27) ( 1, 68) ( 1, 86) (15, 56) (15, 78) (16, 27) (21, 50)\n",
      " (21, 90) (29, 49) (29, 96) (31, 58) (31, 69) (40, 55) (40, 73) (49, 96)\n",
      " (50, 90) (51, 66) (51, 80) (52, 74) (52, 96) (55, 73) (56, 78) (58, 69)\n",
      " (66, 80) (66, 81) (66, 91) (68, 86) (74, 96) (81, 91)]\n"
     ]
    }
   ],
   "source": [
    "faces = np.random.randint(0,100,(10,3))\n",
    "F = np.roll(faces.repeat(2,axis=1),-1,axis=1)\n",
    "F = F.reshape(len(F)*3,2)\n",
    "F = np.sort(F,axis=1)\n",
    "G = F.view( dtype=[('p0',F.dtype),('p1',F.dtype)] )\n",
    "G = np.unique(G)\n",
    "print(G)"
   ]
  },
  {
   "cell_type": "markdown",
   "id": "a76c55a2",
   "metadata": {},
   "source": [
    "#### 74. Given a sorted array C that corresponds to a bincount, how to produce an array A such that np.bincount(A) == C? (★★★)"
   ]
  },
  {
   "cell_type": "code",
   "execution_count": 66,
   "id": "2d2ae65a",
   "metadata": {},
   "outputs": [
    {
     "name": "stdout",
     "output_type": "stream",
     "text": [
      "[1 1 2 3 4 4 6]\n"
     ]
    }
   ],
   "source": [
    "C = np.bincount([1,1,2,3,4,4,6])\n",
    "A = np.repeat(np.arange(len(C)), C)\n",
    "print(A)"
   ]
  },
  {
   "cell_type": "markdown",
   "id": "d550c8e2",
   "metadata": {},
   "source": [
    "#### 75. How to compute averages using a sliding window over an array? (★★★)"
   ]
  },
  {
   "cell_type": "code",
   "execution_count": 68,
   "id": "841c457c",
   "metadata": {},
   "outputs": [
    {
     "name": "stdout",
     "output_type": "stream",
     "text": [
      "[ 1.  2.  3.  4.  5.  6.  7.  8.  9. 10. 11. 12. 13. 14. 15. 16. 17. 18.]\n"
     ]
    }
   ],
   "source": [
    "def moving_average(a, n=3) :\n",
    "    ret = np.cumsum(a, dtype=float)\n",
    "    ret[n:] = ret[n:] - ret[:-n]\n",
    "    return ret[n - 1:] / n\n",
    "Z = np.arange(20)\n",
    "print(moving_average(Z, n=3))\n",
    "\n",
    "# Author: Jeff Luo (@Jeff1999)\n",
    "# make sure your NumPy >= 1.20.0\n",
    "\n",
    "from numpy.lib.stride_tricks import sliding_window_view\n",
    "\n",
    "Z = np.arange(20)"
   ]
  },
  {
   "cell_type": "markdown",
   "id": "6b170b00",
   "metadata": {},
   "source": [
    "#### 76. Consider a one-dimensional array Z, build a two-dimensional array whose first row is (Z[0],Z[1],Z[2]) and each subsequent row is  shifted by 1 (last row should be (Z[-3],Z[-2],Z[-1]) (★★★)"
   ]
  },
  {
   "cell_type": "code",
   "execution_count": 69,
   "id": "d9a0cf4e",
   "metadata": {},
   "outputs": [
    {
     "name": "stdout",
     "output_type": "stream",
     "text": [
      "[[0 1 2]\n",
      " [1 2 3]\n",
      " [2 3 4]\n",
      " [3 4 5]\n",
      " [4 5 6]\n",
      " [5 6 7]\n",
      " [6 7 8]\n",
      " [7 8 9]]\n",
      "[[0 1 2]\n",
      " [1 2 3]\n",
      " [2 3 4]\n",
      " [3 4 5]\n",
      " [4 5 6]\n",
      " [5 6 7]\n",
      " [6 7 8]\n",
      " [7 8 9]]\n"
     ]
    }
   ],
   "source": [
    "\n",
    "# Author: Joe Kington / Erik Rigtorp\n",
    "from numpy.lib import stride_tricks\n",
    "\n",
    "def rolling(a, window):\n",
    "    shape = (a.size - window + 1, window)\n",
    "    strides = (a.strides[0], a.strides[0])\n",
    "    return stride_tricks.as_strided(a, shape=shape, strides=strides)\n",
    "Z = rolling(np.arange(10), 3)\n",
    "print(Z)\n",
    "\n",
    "# Author: Jeff Luo (@Jeff1999)\n",
    "\n",
    "Z = np.arange(10)\n",
    "print(sliding_window_view(Z, window_shape=3))"
   ]
  },
  {
   "cell_type": "markdown",
   "id": "e94a5c1d",
   "metadata": {},
   "source": [
    "#### 77. How to negate a boolean, or to change the sign of a float inplace? (★★★)"
   ]
  },
  {
   "cell_type": "code",
   "execution_count": 71,
   "id": "c0f9504f",
   "metadata": {},
   "outputs": [
    {
     "data": {
      "text/plain": [
       "array([-0.1955136 , -0.06114811, -0.37335405, -0.06841098,  0.99544798,\n",
       "        0.71707783,  0.29102012, -0.52595925,  0.21970537, -0.07138785,\n",
       "       -0.37162542,  0.75220193,  0.95325153, -0.00402912,  0.19616017,\n",
       "        0.75859137, -0.81951383, -0.63360237, -0.98364643,  0.73447875,\n",
       "        0.38832014, -0.61860843, -0.88538324, -0.76130795,  0.7394093 ,\n",
       "        0.45925469, -0.98676874,  0.55251   , -0.61617394,  0.3514111 ,\n",
       "       -0.56636015, -0.56421908,  0.82761804,  0.70583112,  0.75751317,\n",
       "        0.75696693,  0.91939762,  0.98019742, -0.71907634,  0.5243739 ,\n",
       "        0.1938357 ,  0.82584916, -0.20835757,  0.80537689,  0.69797766,\n",
       "        0.2865432 , -0.59805541,  0.90661383, -0.15563577, -0.15838141,\n",
       "       -0.68198459, -0.20876493,  0.90484724,  0.83888391,  0.4182353 ,\n",
       "       -0.39967701, -0.77475181,  0.05441441, -0.03946052, -0.33964582,\n",
       "       -0.73265423,  0.59141984,  0.24752526,  0.8727369 ,  0.01828514,\n",
       "        0.28367702, -0.24431702,  0.85113425,  0.07296294, -0.06578685,\n",
       "       -0.74159648,  0.14964616, -0.14881069, -0.86503449,  0.50975145,\n",
       "       -0.34269473,  0.60887524, -0.55011287,  0.57801104,  0.35324067,\n",
       "        0.81736843,  0.22311977, -0.66395122,  0.29030694,  0.55284863,\n",
       "        0.54459314, -0.23929743,  0.68124893,  0.4214673 ,  0.34985038,\n",
       "       -0.73588779, -0.81730623, -0.20340665, -0.41085252, -0.23033751,\n",
       "       -0.17226834, -0.99661235, -0.04497157,  0.53195984, -0.90969369])"
      ]
     },
     "execution_count": 71,
     "metadata": {},
     "output_type": "execute_result"
    }
   ],
   "source": [
    "# Author: Nathaniel J. Smith\n",
    "\n",
    "Z = np.random.randint(0,2,100)\n",
    "np.logical_not(Z, out=Z)\n",
    "\n",
    "Z = np.random.uniform(-1.0,1.0,100)\n",
    "np.negative(Z, out=Z)"
   ]
  },
  {
   "cell_type": "markdown",
   "id": "4eb8b5c1",
   "metadata": {},
   "source": [
    "#### 78. Consider 2 sets of points P0,P1 describing lines (2d) and a point p, how to compute distance from p to each line i (P0[i],P1[i])? (★★★)"
   ]
  },
  {
   "cell_type": "code",
   "execution_count": 72,
   "id": "487f47ec",
   "metadata": {},
   "outputs": [
    {
     "name": "stdout",
     "output_type": "stream",
     "text": [
      "[ 1.62010854  5.53583569  0.77707511  1.7811836   3.15044438  1.11180898\n",
      "  1.68090563  2.45280328 11.93143243  1.07794314]\n"
     ]
    }
   ],
   "source": [
    "def distance(P0, P1, p):\n",
    "    T = P1 - P0\n",
    "    L = (T**2).sum(axis=1)\n",
    "    U = -((P0[:,0]-p[...,0])*T[:,0] + (P0[:,1]-p[...,1])*T[:,1]) / L\n",
    "    U = U.reshape(len(U),1)\n",
    "    D = P0 + U*T - p\n",
    "    return np.sqrt((D**2).sum(axis=1))\n",
    "\n",
    "P0 = np.random.uniform(-10,10,(10,2))\n",
    "P1 = np.random.uniform(-10,10,(10,2))\n",
    "p  = np.random.uniform(-10,10,( 1,2))\n",
    "print(distance(P0, P1, p))\n"
   ]
  },
  {
   "cell_type": "markdown",
   "id": "3df99948",
   "metadata": {},
   "source": [
    "#### 79. Consider 2 sets of points P0,P1 describing lines (2d) and a set of points P, how to compute distance from each point j (P[j]) to each line i (P0[i],P1[i])? (★★★)"
   ]
  },
  {
   "cell_type": "code",
   "execution_count": 75,
   "id": "dc2df37b",
   "metadata": {},
   "outputs": [
    {
     "name": "stdout",
     "output_type": "stream",
     "text": [
      "[[10.0479471   8.88737742  8.71452872  6.10078111  0.79372477  8.34413958\n",
      "   0.20639909  5.55003119  2.46261731  7.00690689]\n",
      " [ 0.17180908  3.5578857   0.13119022  1.42342385 13.20423662  4.45933029\n",
      "  10.32819476  4.82911443  0.4568293   4.95870911]\n",
      " [ 3.16236531  4.45095503  5.19340881  3.97028646 14.15690421  2.87373712\n",
      "  13.22274487  7.83383457  5.43550983  6.54070013]\n",
      " [12.46997288 13.16946532 13.77885156  5.82965284  3.4533216  13.68054913\n",
      "   3.03599227  8.2810326   1.0156181  10.85503754]\n",
      " [ 4.6967997   2.90451569  5.89310884  2.68983502  6.77414959  2.76459812\n",
      "   5.34940293  0.04107704  0.1773402   1.08839864]\n",
      " [ 2.8837023   3.35910849 10.90806721  1.32731704  6.37223745  5.30585503\n",
      "   6.7353233   1.45097675  4.50898881  0.92655531]\n",
      " [ 2.93369868  3.94782144  5.90938106  4.10986532 13.65921029  2.19338789\n",
      "  12.93582117  7.561079    5.72795253  6.10396038]\n",
      " [ 1.40278926  3.06715788 19.47614805  9.24879633  6.75926873  8.87328578\n",
      "  10.28532411  5.18470712 13.43396841  0.47128273]\n",
      " [ 9.56741911 12.32156204 18.01626102  1.21540051  2.55505405 14.93508494\n",
      "   0.50205798  5.65465338  4.00289263  9.42551263]\n",
      " [ 5.30575072  6.91744339  3.89470863  5.25573737 16.62090572  5.23373539\n",
      "  15.46212328 10.05100335  6.24041436  8.96339115]]\n"
     ]
    }
   ],
   "source": [
    "\n",
    "P0 = np.random.uniform(-10, 10, (10,2))\n",
    "P1 = np.random.uniform(-10,10,(10,2))\n",
    "p = np.random.uniform(-10, 10, (10,2))\n",
    "print(np.array([distance(P0,P1,p_i) for p_i in p]))"
   ]
  },
  {
   "cell_type": "markdown",
   "id": "11e972c2",
   "metadata": {},
   "source": [
    "#### 80. Consider an arbitrary array, write a function that extract a subpart with a fixed shape and centered on a given element (pad with a `fill` value when necessary) (★★★)"
   ]
  },
  {
   "cell_type": "code",
   "execution_count": 76,
   "id": "0291247f",
   "metadata": {},
   "outputs": [
    {
     "name": "stdout",
     "output_type": "stream",
     "text": [
      "Original Array:\n",
      "[[ 1  2  3  4]\n",
      " [ 5  6  7  8]\n",
      " [ 9 10 11 12]\n",
      " [13 14 15 16]]\n",
      "\n",
      "Extracted Subarray:\n",
      "[[ 6  7  8]\n",
      " [10 11 12]\n",
      " [14 15 16]]\n"
     ]
    }
   ],
   "source": [
    "import numpy as np\n",
    "\n",
    "def extract_subarray(arr, center, shape, fill_value=0):\n",
    "    \"\"\"\n",
    "    Extracts a subarray from a given array, centered on `center`, and with a fixed shape.\n",
    "    Pads with `fill_value` if the subarray goes out of bounds.\n",
    "    \n",
    "    Parameters:\n",
    "    - arr: The input array (could be 2D or 3D).\n",
    "    - center: The center position as a tuple (row, col).\n",
    "    - shape: The desired subarray shape (height, width).\n",
    "    - fill_value: The value to pad with if necessary.\n",
    "    \n",
    "    Returns:\n",
    "    - The extracted subarray with the desired shape.\n",
    "    \"\"\"\n",
    "    \n",
    "    # Array dimensions\n",
    "    arr_height, arr_width = arr.shape\n",
    "    \n",
    "    # Desired subarray dimensions\n",
    "    sub_height, sub_width = shape\n",
    "    \n",
    "    # Calculate the half-dimensions for padding\n",
    "    pad_top = (sub_height - 1) // 2\n",
    "    pad_bottom = sub_height - 1 - pad_top\n",
    "    pad_left = (sub_width - 1) // 2\n",
    "    pad_right = sub_width - 1 - pad_left\n",
    "    \n",
    "    # Pad the array with the fill value\n",
    "    padded_arr = np.pad(arr, \n",
    "                        ((pad_top, pad_bottom), (pad_left, pad_right)), \n",
    "                        mode='constant', \n",
    "                        constant_values=fill_value)\n",
    "    \n",
    "    # Calculate the indices of the subarray in the padded array\n",
    "    row_start = center[0] + pad_top\n",
    "    row_end = row_start + sub_height\n",
    "    col_start = center[1] + pad_left\n",
    "    col_end = col_start + sub_width\n",
    "    \n",
    "    # Return the subarray from the padded array\n",
    "    return padded_arr[row_start:row_end, col_start:col_end]\n",
    "\n",
    "# Example usage\n",
    "arr = np.array([\n",
    "    [1, 2, 3, 4],\n",
    "    [5, 6, 7, 8],\n",
    "    [9, 10, 11, 12],\n",
    "    [13, 14, 15, 16]\n",
    "])\n",
    "\n",
    "center = (1, 1)  # Centered on element (1, 1), which is `6`\n",
    "shape = (3, 3)    # We want a 3x3 subarray\n",
    "fill_value = 0    # Padding with 0\n",
    "\n",
    "subarray = extract_subarray(arr, center, shape, fill_value)\n",
    "\n",
    "print(\"Original Array:\")\n",
    "print(arr)\n",
    "print(\"\\nExtracted Subarray:\")\n",
    "print(subarray)\n"
   ]
  },
  {
   "cell_type": "markdown",
   "id": "93cfeab3",
   "metadata": {},
   "source": [
    "#### 81. Consider an array Z = [1,2,3,4,5,6,7,8,9,10,11,12,13,14], how to generate an array R = [[1,2,3,4], [2,3,4,5], [3,4,5,6], ..., [11,12,13,14]]? (★★★)"
   ]
  },
  {
   "cell_type": "code",
   "execution_count": 77,
   "id": "360de791",
   "metadata": {},
   "outputs": [
    {
     "name": "stdout",
     "output_type": "stream",
     "text": [
      "Generated Array R:\n",
      "[[ 1  2  3  4]\n",
      " [ 2  3  4  5]\n",
      " [ 3  4  5  6]\n",
      " [ 4  5  6  7]\n",
      " [ 5  6  7  8]\n",
      " [ 6  7  8  9]\n",
      " [ 7  8  9 10]\n",
      " [ 8  9 10 11]\n",
      " [ 9 10 11 12]\n",
      " [10 11 12 13]\n",
      " [11 12 13 14]]\n"
     ]
    }
   ],
   "source": [
    "import numpy as np\n",
    "\n",
    "# Given array Z\n",
    "Z = np.array([1, 2, 3, 4, 5, 6, 7, 8, 9, 10, 11, 12, 13, 14])\n",
    "\n",
    "# Generate array R using a sliding window of size 4\n",
    "window_size = 4\n",
    "R = np.array([Z[i:i + window_size] for i in range(len(Z) - window_size + 1)])\n",
    "\n",
    "print(\"Generated Array R:\")\n",
    "print(R)\n"
   ]
  },
  {
   "cell_type": "markdown",
   "id": "4c15ceff",
   "metadata": {},
   "source": [
    "#### 82. Compute a matrix rank (★★★)"
   ]
  },
  {
   "cell_type": "code",
   "execution_count": 78,
   "id": "9a4272d2",
   "metadata": {},
   "outputs": [
    {
     "name": "stdout",
     "output_type": "stream",
     "text": [
      "Rank of the matrix A: 2\n"
     ]
    }
   ],
   "source": [
    "import numpy as np\n",
    "\n",
    "# Example matrix\n",
    "A = np.array([[1, 2, 3],\n",
    "              [4, 5, 6],\n",
    "              [7, 8, 9]])\n",
    "\n",
    "# Compute the rank of the matrix\n",
    "rank = np.linalg.matrix_rank(A)\n",
    "\n",
    "print(\"Rank of the matrix A:\", rank)\n"
   ]
  },
  {
   "cell_type": "markdown",
   "id": "1171cb84",
   "metadata": {},
   "source": [
    "#### 83. How to find the most frequent value in an array?"
   ]
  },
  {
   "cell_type": "code",
   "execution_count": 80,
   "id": "33e951c8",
   "metadata": {},
   "outputs": [
    {
     "name": "stdout",
     "output_type": "stream",
     "text": [
      "The most frequent value is: 5\n"
     ]
    }
   ],
   "source": [
    "import numpy as np\n",
    "\n",
    "# Sample array\n",
    "array = np.array([1, 2, 2, 3, 3, 3, 4, 4, 4, 4, 5, 5, 5, 5, 5])\n",
    "\n",
    "# Find the most frequent value\n",
    "most_frequent_value = np.bincount(array).argmax()\n",
    "\n",
    "print(\"The most frequent value is:\", most_frequent_value)\n"
   ]
  },
  {
   "cell_type": "markdown",
   "id": "04f472aa",
   "metadata": {},
   "source": [
    "#### 84. Extract all the contiguous 3x3 blocks from a random 10x10 matrix (★★★)"
   ]
  },
  {
   "cell_type": "code",
   "execution_count": 81,
   "id": "7aade14a",
   "metadata": {},
   "outputs": [
    {
     "name": "stdout",
     "output_type": "stream",
     "text": [
      "Block 1:\n",
      "[[0.21132045 0.77972311 0.26850673]\n",
      " [0.19741601 0.87075272 0.0110438 ]\n",
      " [0.43763699 0.83328607 0.42775369]]\n",
      "\n",
      "Block 2:\n",
      "[[0.77972311 0.26850673 0.28972073]\n",
      " [0.87075272 0.0110438  0.04211248]\n",
      " [0.83328607 0.42775369 0.86917719]]\n",
      "\n",
      "Block 3:\n",
      "[[0.26850673 0.28972073 0.37390019]\n",
      " [0.0110438  0.04211248 0.53151442]\n",
      " [0.42775369 0.86917719 0.25367125]]\n",
      "\n",
      "Block 4:\n",
      "[[0.28972073 0.37390019 0.40672248]\n",
      " [0.04211248 0.53151442 0.54695794]\n",
      " [0.86917719 0.25367125 0.57281572]]\n",
      "\n",
      "Block 5:\n",
      "[[0.37390019 0.40672248 0.24753739]\n",
      " [0.53151442 0.54695794 0.02770058]\n",
      " [0.25367125 0.57281572 0.53905627]]\n",
      "\n",
      "Block 6:\n",
      "[[0.40672248 0.24753739 0.12269366]\n",
      " [0.54695794 0.02770058 0.16259905]\n",
      " [0.57281572 0.53905627 0.09975532]]\n",
      "\n",
      "Block 7:\n",
      "[[0.24753739 0.12269366 0.72708705]\n",
      " [0.02770058 0.16259905 0.70266676]\n",
      " [0.53905627 0.09975532 0.89072233]]\n",
      "\n",
      "Block 8:\n",
      "[[0.12269366 0.72708705 0.01183101]\n",
      " [0.16259905 0.70266676 0.31731156]\n",
      " [0.09975532 0.89072233 0.80423895]]\n",
      "\n",
      "Block 9:\n",
      "[[0.19741601 0.87075272 0.0110438 ]\n",
      " [0.43763699 0.83328607 0.42775369]\n",
      " [0.92298203 0.93657672 0.94604084]]\n",
      "\n",
      "Block 10:\n",
      "[[0.87075272 0.0110438  0.04211248]\n",
      " [0.83328607 0.42775369 0.86917719]\n",
      " [0.93657672 0.94604084 0.49400372]]\n",
      "\n",
      "Block 11:\n",
      "[[0.0110438  0.04211248 0.53151442]\n",
      " [0.42775369 0.86917719 0.25367125]\n",
      " [0.94604084 0.49400372 0.18419447]]\n",
      "\n",
      "Block 12:\n",
      "[[0.04211248 0.53151442 0.54695794]\n",
      " [0.86917719 0.25367125 0.57281572]\n",
      " [0.49400372 0.18419447 0.7196443 ]]\n",
      "\n",
      "Block 13:\n",
      "[[0.53151442 0.54695794 0.02770058]\n",
      " [0.25367125 0.57281572 0.53905627]\n",
      " [0.18419447 0.7196443  0.24380436]]\n",
      "\n",
      "Block 14:\n",
      "[[0.54695794 0.02770058 0.16259905]\n",
      " [0.57281572 0.53905627 0.09975532]\n",
      " [0.7196443  0.24380436 0.62486872]]\n",
      "\n",
      "Block 15:\n",
      "[[0.02770058 0.16259905 0.70266676]\n",
      " [0.53905627 0.09975532 0.89072233]\n",
      " [0.24380436 0.62486872 0.18727203]]\n",
      "\n",
      "Block 16:\n",
      "[[0.16259905 0.70266676 0.31731156]\n",
      " [0.09975532 0.89072233 0.80423895]\n",
      " [0.62486872 0.18727203 0.4319652 ]]\n",
      "\n",
      "Block 17:\n",
      "[[0.43763699 0.83328607 0.42775369]\n",
      " [0.92298203 0.93657672 0.94604084]\n",
      " [0.825461   0.52025293 0.53291846]]\n",
      "\n",
      "Block 18:\n",
      "[[0.83328607 0.42775369 0.86917719]\n",
      " [0.93657672 0.94604084 0.49400372]\n",
      " [0.52025293 0.53291846 0.36211815]]\n",
      "\n",
      "Block 19:\n",
      "[[0.42775369 0.86917719 0.25367125]\n",
      " [0.94604084 0.49400372 0.18419447]\n",
      " [0.53291846 0.36211815 0.91252774]]\n",
      "\n",
      "Block 20:\n",
      "[[0.86917719 0.25367125 0.57281572]\n",
      " [0.49400372 0.18419447 0.7196443 ]\n",
      " [0.36211815 0.91252774 0.79817396]]\n",
      "\n",
      "Block 21:\n",
      "[[0.25367125 0.57281572 0.53905627]\n",
      " [0.18419447 0.7196443  0.24380436]\n",
      " [0.91252774 0.79817396 0.38701249]]\n",
      "\n",
      "Block 22:\n",
      "[[0.57281572 0.53905627 0.09975532]\n",
      " [0.7196443  0.24380436 0.62486872]\n",
      " [0.79817396 0.38701249 0.62850378]]\n",
      "\n",
      "Block 23:\n",
      "[[0.53905627 0.09975532 0.89072233]\n",
      " [0.24380436 0.62486872 0.18727203]\n",
      " [0.38701249 0.62850378 0.3254846 ]]\n",
      "\n",
      "Block 24:\n",
      "[[0.09975532 0.89072233 0.80423895]\n",
      " [0.62486872 0.18727203 0.4319652 ]\n",
      " [0.62850378 0.3254846  0.97511189]]\n",
      "\n",
      "Block 25:\n",
      "[[0.92298203 0.93657672 0.94604084]\n",
      " [0.825461   0.52025293 0.53291846]\n",
      " [0.62178521 0.60458917 0.63520989]]\n",
      "\n",
      "Block 26:\n",
      "[[0.93657672 0.94604084 0.49400372]\n",
      " [0.52025293 0.53291846 0.36211815]\n",
      " [0.60458917 0.63520989 0.97329344]]\n",
      "\n",
      "Block 27:\n",
      "[[0.94604084 0.49400372 0.18419447]\n",
      " [0.53291846 0.36211815 0.91252774]\n",
      " [0.63520989 0.97329344 0.21647435]]\n",
      "\n",
      "Block 28:\n",
      "[[0.49400372 0.18419447 0.7196443 ]\n",
      " [0.36211815 0.91252774 0.79817396]\n",
      " [0.97329344 0.21647435 0.96012907]]\n",
      "\n",
      "Block 29:\n",
      "[[0.18419447 0.7196443  0.24380436]\n",
      " [0.91252774 0.79817396 0.38701249]\n",
      " [0.21647435 0.96012907 0.79590103]]\n",
      "\n",
      "Block 30:\n",
      "[[0.7196443  0.24380436 0.62486872]\n",
      " [0.79817396 0.38701249 0.62850378]\n",
      " [0.96012907 0.79590103 0.13381387]]\n",
      "\n",
      "Block 31:\n",
      "[[0.24380436 0.62486872 0.18727203]\n",
      " [0.38701249 0.62850378 0.3254846 ]\n",
      " [0.79590103 0.13381387 0.46886586]]\n",
      "\n",
      "Block 32:\n",
      "[[0.62486872 0.18727203 0.4319652 ]\n",
      " [0.62850378 0.3254846  0.97511189]\n",
      " [0.13381387 0.46886586 0.34558101]]\n",
      "\n",
      "Block 33:\n",
      "[[0.825461   0.52025293 0.53291846]\n",
      " [0.62178521 0.60458917 0.63520989]\n",
      " [0.11617071 0.29726315 0.71842829]]\n",
      "\n",
      "Block 34:\n",
      "[[0.52025293 0.53291846 0.36211815]\n",
      " [0.60458917 0.63520989 0.97329344]\n",
      " [0.29726315 0.71842829 0.53999136]]\n",
      "\n",
      "Block 35:\n",
      "[[0.53291846 0.36211815 0.91252774]\n",
      " [0.63520989 0.97329344 0.21647435]\n",
      " [0.71842829 0.53999136 0.79181114]]\n",
      "\n",
      "Block 36:\n",
      "[[0.36211815 0.91252774 0.79817396]\n",
      " [0.97329344 0.21647435 0.96012907]\n",
      " [0.53999136 0.79181114 0.84948405]]\n",
      "\n",
      "Block 37:\n",
      "[[0.91252774 0.79817396 0.38701249]\n",
      " [0.21647435 0.96012907 0.79590103]\n",
      " [0.79181114 0.84948405 0.00627119]]\n",
      "\n",
      "Block 38:\n",
      "[[0.79817396 0.38701249 0.62850378]\n",
      " [0.96012907 0.79590103 0.13381387]\n",
      " [0.84948405 0.00627119 0.97929603]]\n",
      "\n",
      "Block 39:\n",
      "[[0.38701249 0.62850378 0.3254846 ]\n",
      " [0.79590103 0.13381387 0.46886586]\n",
      " [0.00627119 0.97929603 0.02193215]]\n",
      "\n",
      "Block 40:\n",
      "[[0.62850378 0.3254846  0.97511189]\n",
      " [0.13381387 0.46886586 0.34558101]\n",
      " [0.97929603 0.02193215 0.95918696]]\n",
      "\n",
      "Block 41:\n",
      "[[0.62178521 0.60458917 0.63520989]\n",
      " [0.11617071 0.29726315 0.71842829]\n",
      " [0.72034505 0.55181055 0.69874101]]\n",
      "\n",
      "Block 42:\n",
      "[[0.60458917 0.63520989 0.97329344]\n",
      " [0.29726315 0.71842829 0.53999136]\n",
      " [0.55181055 0.69874101 0.27456478]]\n",
      "\n",
      "Block 43:\n",
      "[[0.63520989 0.97329344 0.21647435]\n",
      " [0.71842829 0.53999136 0.79181114]\n",
      " [0.69874101 0.27456478 0.35282056]]\n",
      "\n",
      "Block 44:\n",
      "[[0.97329344 0.21647435 0.96012907]\n",
      " [0.53999136 0.79181114 0.84948405]\n",
      " [0.27456478 0.35282056 0.88456908]]\n",
      "\n",
      "Block 45:\n",
      "[[0.21647435 0.96012907 0.79590103]\n",
      " [0.79181114 0.84948405 0.00627119]\n",
      " [0.35282056 0.88456908 0.11734083]]\n",
      "\n",
      "Block 46:\n",
      "[[0.96012907 0.79590103 0.13381387]\n",
      " [0.84948405 0.00627119 0.97929603]\n",
      " [0.88456908 0.11734083 0.00181572]]\n",
      "\n",
      "Block 47:\n",
      "[[0.79590103 0.13381387 0.46886586]\n",
      " [0.00627119 0.97929603 0.02193215]\n",
      " [0.11734083 0.00181572 0.80285327]]\n",
      "\n",
      "Block 48:\n",
      "[[0.13381387 0.46886586 0.34558101]\n",
      " [0.97929603 0.02193215 0.95918696]\n",
      " [0.00181572 0.80285327 0.43653269]]\n",
      "\n",
      "Block 49:\n",
      "[[0.11617071 0.29726315 0.71842829]\n",
      " [0.72034505 0.55181055 0.69874101]\n",
      " [0.52825783 0.25428747 0.75952584]]\n",
      "\n",
      "Block 50:\n",
      "[[0.29726315 0.71842829 0.53999136]\n",
      " [0.55181055 0.69874101 0.27456478]\n",
      " [0.25428747 0.75952584 0.83533804]]\n",
      "\n",
      "Block 51:\n",
      "[[0.71842829 0.53999136 0.79181114]\n",
      " [0.69874101 0.27456478 0.35282056]\n",
      " [0.75952584 0.83533804 0.39658216]]\n",
      "\n",
      "Block 52:\n",
      "[[0.53999136 0.79181114 0.84948405]\n",
      " [0.27456478 0.35282056 0.88456908]\n",
      " [0.83533804 0.39658216 0.43965935]]\n",
      "\n",
      "Block 53:\n",
      "[[0.79181114 0.84948405 0.00627119]\n",
      " [0.35282056 0.88456908 0.11734083]\n",
      " [0.39658216 0.43965935 0.7022997 ]]\n",
      "\n",
      "Block 54:\n",
      "[[0.84948405 0.00627119 0.97929603]\n",
      " [0.88456908 0.11734083 0.00181572]\n",
      " [0.43965935 0.7022997  0.38606213]]\n",
      "\n",
      "Block 55:\n",
      "[[0.00627119 0.97929603 0.02193215]\n",
      " [0.11734083 0.00181572 0.80285327]\n",
      " [0.7022997  0.38606213 0.9168801 ]]\n",
      "\n",
      "Block 56:\n",
      "[[0.97929603 0.02193215 0.95918696]\n",
      " [0.00181572 0.80285327 0.43653269]\n",
      " [0.38606213 0.9168801  0.35328235]]\n",
      "\n",
      "Block 57:\n",
      "[[0.72034505 0.55181055 0.69874101]\n",
      " [0.52825783 0.25428747 0.75952584]\n",
      " [0.01517617 0.13203294 0.2735152 ]]\n",
      "\n",
      "Block 58:\n",
      "[[0.55181055 0.69874101 0.27456478]\n",
      " [0.25428747 0.75952584 0.83533804]\n",
      " [0.13203294 0.2735152  0.38373409]]\n",
      "\n",
      "Block 59:\n",
      "[[0.69874101 0.27456478 0.35282056]\n",
      " [0.75952584 0.83533804 0.39658216]\n",
      " [0.2735152  0.38373409 0.02485188]]\n",
      "\n",
      "Block 60:\n",
      "[[0.27456478 0.35282056 0.88456908]\n",
      " [0.83533804 0.39658216 0.43965935]\n",
      " [0.38373409 0.02485188 0.62380062]]\n",
      "\n",
      "Block 61:\n",
      "[[0.35282056 0.88456908 0.11734083]\n",
      " [0.39658216 0.43965935 0.7022997 ]\n",
      " [0.02485188 0.62380062 0.10036485]]\n",
      "\n",
      "Block 62:\n",
      "[[0.88456908 0.11734083 0.00181572]\n",
      " [0.43965935 0.7022997  0.38606213]\n",
      " [0.62380062 0.10036485 0.1532802 ]]\n",
      "\n",
      "Block 63:\n",
      "[[0.11734083 0.00181572 0.80285327]\n",
      " [0.7022997  0.38606213 0.9168801 ]\n",
      " [0.10036485 0.1532802  0.44580095]]\n",
      "\n",
      "Block 64:\n",
      "[[0.00181572 0.80285327 0.43653269]\n",
      " [0.38606213 0.9168801  0.35328235]\n",
      " [0.1532802  0.44580095 0.93172461]]\n",
      "\n"
     ]
    }
   ],
   "source": [
    "import numpy as np\n",
    "\n",
    "# Generate a random 10x10 matrix\n",
    "matrix = np.random.rand(10, 10)\n",
    "\n",
    "# Function to extract all 3x3 blocks\n",
    "def extract_3x3_blocks(matrix):\n",
    "    blocks = []\n",
    "    for i in range(matrix.shape[0] - 2):\n",
    "        for j in range(matrix.shape[1] - 2):\n",
    "            block = matrix[i:i+3, j:j+3]\n",
    "            blocks.append(block)\n",
    "    return blocks\n",
    "\n",
    "# Extract the 3x3 blocks\n",
    "blocks = extract_3x3_blocks(matrix)\n",
    "\n",
    "# Print the blocks\n",
    "for idx, block in enumerate(blocks):\n",
    "    print(f\"Block {idx+1}:\\n{block}\\n\")\n"
   ]
  },
  {
   "cell_type": "markdown",
   "id": "52836346",
   "metadata": {},
   "source": [
    "#### 85. Create a 2D array subclass such that Z[i,j] == Z[j,i] (★★★)"
   ]
  },
  {
   "cell_type": "code",
   "execution_count": 82,
   "id": "4df70318",
   "metadata": {},
   "outputs": [
    {
     "name": "stdout",
     "output_type": "stream",
     "text": [
      "Original symmetric array:\n",
      "[[1 2 3]\n",
      " [2 4 5]\n",
      " [3 5 6]]\n",
      "\n",
      "Modified symmetric array:\n",
      "[[ 1  2 10]\n",
      " [ 2  4  5]\n",
      " [10  5  6]]\n"
     ]
    }
   ],
   "source": [
    "import numpy as np\n",
    "\n",
    "class SymmetricMatrix(np.ndarray):\n",
    "    def __new__(cls, input_array, dtype=None, order='C'):\n",
    "        # Create a new instance of the ndarray class with the input array\n",
    "        obj = np.asarray(input_array, dtype=dtype, order=order).view(cls)\n",
    "        return obj\n",
    "    \n",
    "    def __setitem__(self, key, value):\n",
    "        i, j = key\n",
    "        super().__setitem__((i, j), value)  # Set the value for (i, j)\n",
    "        super().__setitem__((j, i), value)  # Ensure (j, i) is the same value\n",
    "    \n",
    "    def __getitem__(self, key):\n",
    "        i, j = key\n",
    "        return super().__getitem__((i, j))  # Return the value for (i, j)\n",
    "\n",
    "# Example usage:\n",
    "Z = np.array([[1, 2, 3], [2, 4, 5], [3, 5, 6]])\n",
    "Z = Z.view(SymmetricMatrix)  # View as SymmetricMatrix\n",
    "\n",
    "print(\"Original symmetric array:\")\n",
    "print(Z)\n",
    "\n",
    "# Set new value and check symmetry\n",
    "Z[0, 2] = 10  # This should automatically set Z[2, 0] = 10\n",
    "print(\"\\nModified symmetric array:\")\n",
    "print(Z)\n"
   ]
  },
  {
   "cell_type": "markdown",
   "id": "78c43ee5",
   "metadata": {},
   "source": [
    "#### 86. Consider a set of p matrices with shape (n,n) and a set of p vectors with shape (n,1). How to compute the sum of of the p matrix products at once? (result has shape (n,1)) (★★★)"
   ]
  },
  {
   "cell_type": "code",
   "execution_count": 83,
   "id": "32fd2c3b",
   "metadata": {},
   "outputs": [
    {
     "name": "stdout",
     "output_type": "stream",
     "text": [
      "Result of the sum of matrix products (shape (4, 1)):\n",
      "[[2.01301393]\n",
      " [2.97380899]\n",
      " [3.15732338]\n",
      " [2.36501181]]\n"
     ]
    }
   ],
   "source": [
    "import numpy as np\n",
    "\n",
    "# Example values\n",
    "p = 3  # Number of matrices and vectors\n",
    "n = 4  # Size of each matrix and vector\n",
    "\n",
    "# Generate random matrices (n, n) and vectors (n, 1)\n",
    "A = [np.random.rand(n, n) for _ in range(p)]  # List of matrices\n",
    "b = [np.random.rand(n, 1) for _ in range(p)]  # List of vectors\n",
    "\n",
    "# Compute the sum of the matrix-vector products\n",
    "result = sum(np.dot(A[i], b[i]) for i in range(p))\n",
    "\n",
    "print(\"Result of the sum of matrix products (shape {}):\".format(result.shape))\n",
    "print(result)\n"
   ]
  },
  {
   "cell_type": "markdown",
   "id": "158f9945",
   "metadata": {},
   "source": [
    "#### 87. Consider a 16x16 array, how to get the block-sum (block size is 4x4)? (★★★)"
   ]
  },
  {
   "cell_type": "code",
   "execution_count": 84,
   "id": "5a9b808f",
   "metadata": {},
   "outputs": [
    {
     "name": "stdout",
     "output_type": "stream",
     "text": [
      "Original Array:\n",
      "[[5 1 2 8 2 6 7 2 1 6 8 8 7 7 5 8]\n",
      " [3 4 3 8 8 3 7 1 1 2 4 7 8 6 4 6]\n",
      " [8 2 8 3 2 7 3 4 6 1 8 1 5 9 3 8]\n",
      " [1 3 2 6 3 7 4 9 9 1 1 9 3 4 3 3]\n",
      " [2 5 6 7 8 7 3 1 8 9 8 5 6 5 8 5]\n",
      " [1 5 7 4 1 9 9 6 3 7 9 9 7 2 2 8]\n",
      " [5 8 5 5 9 4 5 7 6 7 8 1 9 9 4 7]\n",
      " [9 1 1 4 7 3 6 5 8 1 6 4 7 8 5 1]\n",
      " [2 4 7 5 4 9 9 2 6 4 3 6 5 5 1 2]\n",
      " [4 5 3 8 3 9 3 1 4 5 4 1 1 5 2 3]\n",
      " [8 1 5 7 2 4 9 8 7 2 3 9 1 3 5 8]\n",
      " [2 5 4 3 4 5 3 7 7 9 9 2 5 5 7 9]\n",
      " [5 7 6 7 9 8 1 1 3 3 2 3 7 4 3 6]\n",
      " [5 4 4 4 9 2 1 7 9 2 7 8 2 6 9 6]\n",
      " [3 8 6 8 5 4 4 5 6 6 7 1 1 1 5 2]\n",
      " [6 5 4 1 1 3 7 5 5 4 1 1 2 3 4 2]]\n",
      "\n",
      "Block-Sum (4x4 blocks):\n",
      "[[83 75 78 68]\n",
      " [93 89 99 76]\n",
      " [74 61 82 86]\n",
      " [75 85 72 54]]\n"
     ]
    }
   ],
   "source": [
    "import numpy as np\n",
    "\n",
    "# Create a 16x16 array\n",
    "arr = np.random.randint(1, 10, (16, 16))\n",
    "\n",
    "# Reshape the array into 4x4 blocks (8x8 blocks)\n",
    "reshaped_arr = arr.reshape(4, 4, 4, 4)\n",
    "\n",
    "# Sum the elements within each 4x4 block along the last two dimensions\n",
    "block_sum = reshaped_arr.sum(axis=(2, 3))\n",
    "\n",
    "print(\"Original Array:\")\n",
    "print(arr)\n",
    "print(\"\\nBlock-Sum (4x4 blocks):\")\n",
    "print(block_sum)\n"
   ]
  },
  {
   "cell_type": "markdown",
   "id": "2e0ad860",
   "metadata": {},
   "source": [
    "#### 88. How to implement the Game of Life using numpy arrays? (★★★)"
   ]
  },
  {
   "cell_type": "code",
   "execution_count": 85,
   "id": "574acff5",
   "metadata": {},
   "outputs": [
    {
     "data": {
      "image/png": "[encoded data removed]",
      "text/plain": [
       "<Figure size 640x480 with 1 Axes>"
      ]
     },
     "metadata": {},
     "output_type": "display_data"
    },
    {
     "data": {
      "image/png": "[encoded data removed]",
      "text/plain": [
       "<Figure size 640x480 with 1 Axes>"
      ]
     },
     "metadata": {},
     "output_type": "display_data"
    },
    {
     "data": {
      "image/png": "[encoded data removed]",
      "text/plain": [
       "<Figure size 640x480 with 1 Axes>"
      ]
     },
     "metadata": {},
     "output_type": "display_data"
    },
    {
     "data": {
      "image/png": "[encoded data removed]",
      "text/plain": [
       "<Figure size 640x480 with 1 Axes>"
      ]
     },
     "metadata": {},
     "output_type": "display_data"
    },
    {
     "data": {
      "image/png": "[encoded data removed]",
      "text/plain": [
       "<Figure size 640x480 with 1 Axes>"
      ]
     },
     "metadata": {},
     "output_type": "display_data"
    },
    {
     "data": {
      "image/png": "[encoded data removed]",
      "text/plain": [
       "<Figure size 640x480 with 1 Axes>"
      ]
     },
     "metadata": {},
     "output_type": "display_data"
    },
    {
     "data": {
      "image/png": "[encoded data removed]",
      "text/plain": [
       "<Figure size 640x480 with 1 Axes>"
      ]
     },
     "metadata": {},
     "output_type": "display_data"
    },
    {
     "data": {
      "image/png": "[encoded data removed]",
      "text/plain": [
       "<Figure size 640x480 with 1 Axes>"
      ]
     },
     "metadata": {},
     "output_type": "display_data"
    },
    {
     "data": {
      "image/png": "[encoded data removed]",
      "text/plain": [
       "<Figure size 640x480 with 1 Axes>"
      ]
     },
     "metadata": {},
     "output_type": "display_data"
    },
    {
     "data": {
      "image/png": "[encoded data removed]",
      "text/plain": [
       "<Figure size 640x480 with 1 Axes>"
      ]
     },
     "metadata": {},
     "output_type": "display_data"
    },
    {
     "data": {
      "image/png": "[encoded data removed]",
      "text/plain": [
       "<Figure size 640x480 with 1 Axes>"
      ]
     },
     "metadata": {},
     "output_type": "display_data"
    },
    {
     "data": {
      "image/png": "[encoded data removed]",
      "text/plain": [
       "<Figure size 640x480 with 1 Axes>"
      ]
     },
     "metadata": {},
     "output_type": "display_data"
    },
    {
     "data": {
      "image/png": "[encoded data removed]",
      "text/plain": [
       "<Figure size 640x480 with 1 Axes>"
      ]
     },
     "metadata": {},
     "output_type": "display_data"
    },
    {
     "data": {
      "image/png": "[encoded data removed]",
      "text/plain": [
       "<Figure size 640x480 with 1 Axes>"
      ]
     },
     "metadata": {},
     "output_type": "display_data"
    },
    {
     "data": {
      "image/png": "[encoded data removed]",
      "text/plain": [
       "<Figure size 640x480 with 1 Axes>"
      ]
     },
     "metadata": {},
     "output_type": "display_data"
    },
    {
     "data": {
      "image/png": "[encoded data removed]",
      "text/plain": [
       "<Figure size 640x480 with 1 Axes>"
      ]
     },
     "metadata": {},
     "output_type": "display_data"
    },
    {
     "data": {
      "image/png": "[encoded data removed]",
      "text/plain": [
       "<Figure size 640x480 with 1 Axes>"
      ]
     },
     "metadata": {},
     "output_type": "display_data"
    },
    {
     "data": {
      "image/png": "[encoded data removed]",
      "text/plain": [
       "<Figure size 640x480 with 1 Axes>"
      ]
     },
     "metadata": {},
     "output_type": "display_data"
    },
    {
     "data": {
      "image/png": "[encoded data removed]",
      "text/plain": [
       "<Figure size 640x480 with 1 Axes>"
      ]
     },
     "metadata": {},
     "output_type": "display_data"
    },
    {
     "data": {
      "image/png": "[encoded data removed]",
      "text/plain": [
       "<Figure size 640x480 with 1 Axes>"
      ]
     },
     "metadata": {},
     "output_type": "display_data"
    },
    {
     "data": {
      "image/png": "[encoded data removed]",
      "text/plain": [
       "<Figure size 640x480 with 1 Axes>"
      ]
     },
     "metadata": {},
     "output_type": "display_data"
    },
    {
     "data": {
      "image/png": "[encoded data removed]",
      "text/plain": [
       "<Figure size 640x480 with 1 Axes>"
      ]
     },
     "metadata": {},
     "output_type": "display_data"
    },
    {
     "data": {
      "image/png": "[encoded data removed]",
      "text/plain": [
       "<Figure size 640x480 with 1 Axes>"
      ]
     },
     "metadata": {},
     "output_type": "display_data"
    },
    {
     "data": {
      "image/png": "[encoded data removed]",
      "text/plain": [
       "<Figure size 640x480 with 1 Axes>"
      ]
     },
     "metadata": {},
     "output_type": "display_data"
    },
    {
     "data": {
      "image/png": "[encoded data removed]",
      "text/plain": [
       "<Figure size 640x480 with 1 Axes>"
      ]
     },
     "metadata": {},
     "output_type": "display_data"
    },
    {
     "data": {
      "image/png": "[encoded data removed]",
      "text/plain": [
       "<Figure size 640x480 with 1 Axes>"
      ]
     },
     "metadata": {},
     "output_type": "display_data"
    },
    {
     "data": {
      "image/png": "[encoded data removed]",
      "text/plain": [
       "<Figure size 640x480 with 1 Axes>"
      ]
     },
     "metadata": {},
     "output_type": "display_data"
    },
    {
     "data": {
      "image/png": "[encoded data removed]",
      "text/plain": [
       "<Figure size 640x480 with 1 Axes>"
      ]
     },
     "metadata": {},
     "output_type": "display_data"
    },
    {
     "data": {
      "image/png": "[encoded data removed]",
      "text/plain": [
       "<Figure size 640x480 with 1 Axes>"
      ]
     },
     "metadata": {},
     "output_type": "display_data"
    },
    {
     "data": {
      "image/png": "[encoded data removed]",
      "text/plain": [
       "<Figure size 640x480 with 1 Axes>"
      ]
     },
     "metadata": {},
     "output_type": "display_data"
    },
    {
     "data": {
      "image/png": "[encoded data removed]",
      "text/plain": [
       "<Figure size 640x480 with 1 Axes>"
      ]
     },
     "metadata": {},
     "output_type": "display_data"
    },
    {
     "data": {
      "image/png": "[encoded data removed]",
      "text/plain": [
       "<Figure size 640x480 with 1 Axes>"
      ]
     },
     "metadata": {},
     "output_type": "display_data"
    },
    {
     "data": {
      "image/png": "[encoded data removed]",
      "text/plain": [
       "<Figure size 640x480 with 1 Axes>"
      ]
     },
     "metadata": {},
     "output_type": "display_data"
    },
    {
     "data": {
      "image/png": "[encoded data removed]",
      "text/plain": [
       "<Figure size 640x480 with 1 Axes>"
      ]
     },
     "metadata": {},
     "output_type": "display_data"
    },
    {
     "data": {
      "image/png": "[encoded data removed]",
      "text/plain": [
       "<Figure size 640x480 with 1 Axes>"
      ]
     },
     "metadata": {},
     "output_type": "display_data"
    },
    {
     "data": {
      "image/png": "[encoded data removed]",
      "text/plain": [
       "<Figure size 640x480 with 1 Axes>"
      ]
     },
     "metadata": {},
     "output_type": "display_data"
    },
    {
     "data": {
      "image/png": "[encoded data removed]",
      "text/plain": [
       "<Figure size 640x480 with 1 Axes>"
      ]
     },
     "metadata": {},
     "output_type": "display_data"
    },
    {
     "data": {
      "image/png": "[encoded data removed]",
      "text/plain": [
       "<Figure size 640x480 with 1 Axes>"
      ]
     },
     "metadata": {},
     "output_type": "display_data"
    },
    {
     "data": {
      "image/png": "[encoded data removed]",
      "text/plain": [
       "<Figure size 640x480 with 1 Axes>"
      ]
     },
     "metadata": {},
     "output_type": "display_data"
    },
    {
     "data": {
      "image/png": "[encoded data removed]",
      "text/plain": [
       "<Figure size 640x480 with 1 Axes>"
      ]
     },
     "metadata": {},
     "output_type": "display_data"
    },
    {
     "data": {
      "image/png": "[encoded data removed]",
      "text/plain": [
       "<Figure size 640x480 with 1 Axes>"
      ]
     },
     "metadata": {},
     "output_type": "display_data"
    },
    {
     "data": {
      "image/png": "[encoded data removed]",
      "text/plain": [
       "<Figure size 640x480 with 1 Axes>"
      ]
     },
     "metadata": {},
     "output_type": "display_data"
    },
    {
     "data": {
      "image/png": "[encoded data removed]",
      "text/plain": [
       "<Figure size 640x480 with 1 Axes>"
      ]
     },
     "metadata": {},
     "output_type": "display_data"
    },
    {
     "data": {
      "image/png": "[encoded data removed]",
      "text/plain": [
       "<Figure size 640x480 with 1 Axes>"
      ]
     },
     "metadata": {},
     "output_type": "display_data"
    },
    {
     "data": {
      "image/png": "[encoded data removed]",
      "text/plain": [
       "<Figure size 640x480 with 1 Axes>"
      ]
     },
     "metadata": {},
     "output_type": "display_data"
    },
    {
     "data": {
      "image/png": "[encoded data removed]",
      "text/plain": [
       "<Figure size 640x480 with 1 Axes>"
      ]
     },
     "metadata": {},
     "output_type": "display_data"
    },
    {
     "data": {
      "image/png": "[encoded data removed]",
      "text/plain": [
       "<Figure size 640x480 with 1 Axes>"
      ]
     },
     "metadata": {},
     "output_type": "display_data"
    },
    {
     "data": {
      "image/png": "[encoded data removed]",
      "text/plain": [
       "<Figure size 640x480 with 1 Axes>"
      ]
     },
     "metadata": {},
     "output_type": "display_data"
    },
    {
     "data": {
      "image/png": "[encoded data removed]",
      "text/plain": [
       "<Figure size 640x480 with 1 Axes>"
      ]
     },
     "metadata": {},
     "output_type": "display_data"
    },
    {
     "data": {
      "image/png": "[encoded data removed]",
      "text/plain": [
       "<Figure size 640x480 with 1 Axes>"
      ]
     },
     "metadata": {},
     "output_type": "display_data"
    }
   ],
   "source": [
    "import numpy as np\n",
    "import matplotlib.pyplot as plt\n",
    "import time\n",
    "\n",
    "# Function to initialize a random grid\n",
    "def initialize_grid(n):\n",
    "    return np.random.choice([0, 1], size=(n, n), p=[0.7, 0.3])\n",
    "\n",
    "# Function to count the live neighbors of a cell\n",
    "def count_neighbors(grid, i, j):\n",
    "    neighbors = grid[i-1:i+2, j-1:j+2]  # 3x3 grid centered around (i, j)\n",
    "    neighbors_sum = np.sum(neighbors) - grid[i, j]  # Exclude the center cell\n",
    "    return neighbors_sum\n",
    "\n",
    "# Function to apply the Game of Life rules\n",
    "def game_of_life_step(grid):\n",
    "    n = grid.shape[0]\n",
    "    new_grid = grid.copy()\n",
    "\n",
    "    for i in range(1, n-1):  # Avoid boundary cells\n",
    "        for j in range(1, n-1):\n",
    "            live_neighbors = count_neighbors(grid, i, j)\n",
    "\n",
    "            # Apply the rules\n",
    "            if grid[i, j] == 1:  # Cell is alive\n",
    "                if live_neighbors < 2 or live_neighbors > 3:\n",
    "                    new_grid[i, j] = 0  # Cell dies\n",
    "            else:  # Cell is dead\n",
    "                if live_neighbors == 3:\n",
    "                    new_grid[i, j] = 1  # Cell becomes alive\n",
    "\n",
    "    return new_grid\n",
    "\n",
    "# Function to display the grid\n",
    "def display_grid(grid):\n",
    "    plt.imshow(grid, cmap=\"binary\")\n",
    "    plt.axis('off')\n",
    "    plt.show()\n",
    "\n",
    "# Main function to run the simulation\n",
    "def run_game_of_life(n, generations):\n",
    "    grid = initialize_grid(n)\n",
    "    for gen in range(generations):\n",
    "        display_grid(grid)\n",
    "        grid = game_of_life_step(grid)\n",
    "        time.sleep(0.5)  # Slow down the visualization\n",
    "\n",
    "# Run the Game of Life with a 50x50 grid and 50 generations\n",
    "run_game_of_life(50, 50)\n"
   ]
  },
  {
   "cell_type": "markdown",
   "id": "69a892fa",
   "metadata": {},
   "source": [
    "#### 89. How to get the n largest values of an array (★★★)"
   ]
  },
  {
   "cell_type": "code",
   "execution_count": 86,
   "id": "21b2bd48",
   "metadata": {},
   "outputs": [
    {
     "name": "stdout",
     "output_type": "stream",
     "text": [
      "Original Array: [99 83  9 27  6 55 37 90 72 12 86 69 91 95 26 55 83 37 74 82]\n",
      "The 5 largest values: [86 90 91 95 99]\n"
     ]
    }
   ],
   "source": [
    "import numpy as np\n",
    "\n",
    "# Create a random array\n",
    "arr = np.random.randint(1, 100, 20)\n",
    "\n",
    "# Get the n largest values\n",
    "n = 5\n",
    "largest_values = np.partition(arr, -n)[-n:]\n",
    "\n",
    "print(f\"Original Array: {arr}\")\n",
    "print(f\"The {n} largest values: {largest_values}\")\n"
   ]
  },
  {
   "cell_type": "markdown",
   "id": "b55ccacc",
   "metadata": {},
   "source": [
    "#### 90. Given an arbitrary number of vectors, build the cartesian product (every combinations of every item) (★★★)"
   ]
  },
  {
   "cell_type": "code",
   "execution_count": 87,
   "id": "4b645da4",
   "metadata": {},
   "outputs": [
    {
     "name": "stdout",
     "output_type": "stream",
     "text": [
      "Cartesian Product:\n",
      "(1, 4, 6)\n",
      "(1, 4, 7)\n",
      "(1, 5, 6)\n",
      "(1, 5, 7)\n",
      "(2, 4, 6)\n",
      "(2, 4, 7)\n",
      "(2, 5, 6)\n",
      "(2, 5, 7)\n",
      "(3, 4, 6)\n",
      "(3, 4, 7)\n",
      "(3, 5, 6)\n",
      "(3, 5, 7)\n"
     ]
    }
   ],
   "source": [
    "import itertools\n",
    "import numpy as np\n",
    "\n",
    "# Define arbitrary vectors (lists or arrays)\n",
    "vector1 = [1, 2, 3]\n",
    "vector2 = [4, 5]\n",
    "vector3 = [6, 7]\n",
    "\n",
    "# Compute the Cartesian product\n",
    "cartesian_product = list(itertools.product(vector1, vector2, vector3))\n",
    "\n",
    "# Print the result\n",
    "print(\"Cartesian Product:\")\n",
    "for combination in cartesian_product:\n",
    "    print(combination)\n"
   ]
  },
  {
   "cell_type": "markdown",
   "id": "89187a23",
   "metadata": {},
   "source": [
    "#### 91. How to create a record array from a regular array? (★★★)"
   ]
  },
  {
   "cell_type": "code",
   "execution_count": 88,
   "id": "da94c71a",
   "metadata": {},
   "outputs": [
    {
     "name": "stdout",
     "output_type": "stream",
     "text": [
      "[(1, 2, 3) (4, 5, 6) (7, 8, 9)]\n",
      "Accessing field 'a': [1 4 7]\n",
      "Accessing field 'b': [2 5 8]\n",
      "Accessing field 'c': [3 6 9]\n"
     ]
    },
    {
     "name": "stderr",
     "output_type": "stream",
     "text": [
      "C:\\Users\\ravit\\AppData\\Local\\Temp\\ipykernel_19664\\2967983235.py:9: DeprecationWarning: numpy.core is deprecated and has been renamed to numpy._core. The numpy._core namespace contains private NumPy internals and its use is discouraged, as NumPy internals can change without warning in any release. In practice, most real-world usage of numpy.core is to access functionality in the public NumPy API. If that is the case, use the public NumPy API. If not, you are using NumPy internals. If you would still like to access an internal attribute, use numpy._core.records.\n",
      "  record_array = np.core.records.fromarrays(data.T, names='a,b,c')\n"
     ]
    }
   ],
   "source": [
    "import numpy as np\n",
    "\n",
    "# Create a regular 2D array\n",
    "data = np.array([[1, 2, 3],\n",
    "                 [4, 5, 6],\n",
    "                 [7, 8, 9]])\n",
    "\n",
    "# Convert the regular array into a record array\n",
    "record_array = np.core.records.fromarrays(data.T, names='a,b,c')\n",
    "\n",
    "# Access the fields by name\n",
    "print(record_array)\n",
    "print(\"Accessing field 'a':\", record_array.a)\n",
    "print(\"Accessing field 'b':\", record_array.b)\n",
    "print(\"Accessing field 'c':\", record_array.c)\n"
   ]
  },
  {
   "cell_type": "markdown",
   "id": "aa70d4ca",
   "metadata": {},
   "source": [
    "#### 92. Consider a large vector Z, compute Z to the power of 3 using 3 different methods (★★★)"
   ]
  },
  {
   "cell_type": "code",
   "execution_count": 89,
   "id": "7cff1bf5",
   "metadata": {},
   "outputs": [
    {
     "name": "stdout",
     "output_type": "stream",
     "text": [
      "True\n",
      "True\n"
     ]
    }
   ],
   "source": [
    "import numpy as np\n",
    "\n",
    "# Creating a large vector Z\n",
    "Z = np.random.rand(1000000)\n",
    "\n",
    "# Method 1: Using the power operator (**)\n",
    "Z_power_3_method1 = Z ** 3\n",
    "\n",
    "# Method 2: Using numpy.power function\n",
    "Z_power_3_method2 = np.power(Z, 3)\n",
    "\n",
    "# Method 3: Using element-wise multiplication\n",
    "Z_power_3_method3 = Z * Z * Z\n",
    "\n",
    "# Verify if all methods give the same result\n",
    "print(np.allclose(Z_power_3_method1, Z_power_3_method2))\n",
    "print(np.allclose(Z_power_3_method1, Z_power_3_method3))\n"
   ]
  },
  {
   "cell_type": "markdown",
   "id": "5f79dd00",
   "metadata": {},
   "source": [
    "#### 93. Consider two arrays A and B of shape (8,3) and (2,2). How to find rows of A that contain elements of each row of B regardless of the order of the elements in B? (★★★)"
   ]
  },
  {
   "cell_type": "code",
   "execution_count": 90,
   "id": "20c105b2",
   "metadata": {},
   "outputs": [
    {
     "name": "stdout",
     "output_type": "stream",
     "text": [
      "Rows of A containing elements of each row of B:\n",
      " [[4 5 6]\n",
      " [1 4 7]\n",
      " [4 5 6]]\n"
     ]
    }
   ],
   "source": [
    "import numpy as np\n",
    "\n",
    "# Example arrays A and B\n",
    "A = np.array([\n",
    "    [1, 2, 3],\n",
    "    [4, 5, 6],\n",
    "    [7, 8, 9],\n",
    "    [1, 4, 7],\n",
    "    [2, 5, 8],\n",
    "    [3, 6, 9],\n",
    "    [1, 5, 9],\n",
    "    [4, 5, 6]\n",
    "])\n",
    "\n",
    "B = np.array([\n",
    "    [1, 4],\n",
    "    [5, 6]\n",
    "])\n",
    "\n",
    "# Function to find rows of A that contain elements of each row of B\n",
    "def find_rows_containing_elements(A, B):\n",
    "    rows = []\n",
    "    for row in A:\n",
    "        for b_row in B:\n",
    "            if all(elem in row for elem in b_row):\n",
    "                rows.append(row)\n",
    "                break\n",
    "    return np.array(rows)\n",
    "\n",
    "# Find rows of A that contain elements of each row of B\n",
    "result = find_rows_containing_elements(A, B)\n",
    "\n",
    "print(\"Rows of A containing elements of each row of B:\\n\", result)\n"
   ]
  },
  {
   "cell_type": "markdown",
   "id": "a80570cd",
   "metadata": {},
   "source": [
    "#### 94. Considering a 10x3 matrix, extract rows with unequal values (e.g. [2,2,3]) (★★★)"
   ]
  },
  {
   "cell_type": "code",
   "execution_count": 91,
   "id": "84db8de1",
   "metadata": {},
   "outputs": [
    {
     "name": "stdout",
     "output_type": "stream",
     "text": [
      "Rows with unequal values:\n",
      " [[2 2 3]\n",
      " [1 2 2]\n",
      " [9 7 9]\n",
      " [3 3 1]\n",
      " [7 8 7]\n",
      " [5 6 5]]\n"
     ]
    }
   ],
   "source": [
    "import numpy as np\n",
    "\n",
    "# Create a sample 10x3 matrix\n",
    "matrix = np.array([\n",
    "    [2, 2, 3],\n",
    "    [4, 4, 4],\n",
    "    [1, 2, 2],\n",
    "    [5, 5, 5],\n",
    "    [9, 7, 9],\n",
    "    [3, 3, 1],\n",
    "    [0, 0, 0],\n",
    "    [7, 8, 7],\n",
    "    [5, 6, 5],\n",
    "    [8, 8, 8]\n",
    "])\n",
    "\n",
    "# Extract rows with unequal values\n",
    "unequal_rows = matrix[np.any(matrix[:, 0:1] != matrix, axis=1)]\n",
    "\n",
    "print(\"Rows with unequal values:\\n\", unequal_rows)\n"
   ]
  },
  {
   "cell_type": "markdown",
   "id": "ba154f43",
   "metadata": {},
   "source": [
    "#### 95. Convert a vector of ints into a matrix binary representation (★★★)"
   ]
  },
  {
   "cell_type": "code",
   "execution_count": 92,
   "id": "cfa96e1b",
   "metadata": {},
   "outputs": [
    {
     "name": "stdout",
     "output_type": "stream",
     "text": [
      "Binary matrix representation:\n",
      " [[0 1 0 1]\n",
      " [0 1 1 1]\n",
      " [1 0 1 0]\n",
      " [1 1 0 0]]\n"
     ]
    }
   ],
   "source": [
    "import numpy as np\n",
    "\n",
    "# Example vector of integers\n",
    "vector = np.array([5, 7, 10, 12])\n",
    "\n",
    "# Function to convert vector of ints to binary representation matrix\n",
    "def vector_to_binary_matrix(vector):\n",
    "    # Find the maximum number of bits needed\n",
    "    max_bits = np.ceil(np.log2(np.max(vector) + 1)).astype(int)\n",
    "    \n",
    "    # Convert each integer to a binary string and fill with leading zeros\n",
    "    binary_matrix = np.array([np.binary_repr(x, width=max_bits) for x in vector])\n",
    "    \n",
    "    # Convert the binary strings to a binary matrix\n",
    "    binary_matrix = np.array([[int(bit) for bit in binary] for binary in binary_matrix])\n",
    "    \n",
    "    return binary_matrix\n",
    "\n",
    "# Convert the vector to binary matrix\n",
    "binary_matrix = vector_to_binary_matrix(vector)\n",
    "\n",
    "print(\"Binary matrix representation:\\n\", binary_matrix)\n"
   ]
  },
  {
   "cell_type": "markdown",
   "id": "420e2343",
   "metadata": {},
   "source": [
    "#### 96. Given a two dimensional array, how to extract unique rows? (★★★)"
   ]
  },
  {
   "cell_type": "code",
   "execution_count": 93,
   "id": "4680dfd0",
   "metadata": {},
   "outputs": [
    {
     "name": "stdout",
     "output_type": "stream",
     "text": [
      "Unique rows:\n",
      " [[1 2 3]\n",
      " [4 5 6]\n",
      " [7 8 9]]\n"
     ]
    }
   ],
   "source": [
    "import numpy as np\n",
    "\n",
    "# Example two-dimensional array\n",
    "array = np.array([\n",
    "    [1, 2, 3],\n",
    "    [4, 5, 6],\n",
    "    [1, 2, 3],\n",
    "    [7, 8, 9],\n",
    "    [4, 5, 6]\n",
    "])\n",
    "\n",
    "# Extract unique rows\n",
    "unique_rows = np.unique(array, axis=0)\n",
    "\n",
    "print(\"Unique rows:\\n\", unique_rows)\n"
   ]
  },
  {
   "cell_type": "markdown",
   "id": "89fef2f3",
   "metadata": {},
   "source": [
    "#### 97. Considering 2 vectors A & B, write the einsum equivalent of inner, outer, sum, and mul function (★★★)"
   ]
  },
  {
   "cell_type": "code",
   "execution_count": 95,
   "id": "bb9c14b2",
   "metadata": {},
   "outputs": [
    {
     "data": {
      "text/plain": [
       "array([[0.185389  , 0.34330847, 0.02635947, 0.48143548, 0.33134083,\n",
       "        0.11334332, 0.30138307, 0.59397821, 0.0228751 , 0.57090221],\n",
       "       [0.10911569, 0.20206345, 0.01551457, 0.28336182, 0.19501957,\n",
       "        0.06671126, 0.17738712, 0.34960187, 0.01346375, 0.33601987],\n",
       "       [0.16322391, 0.30226255, 0.02320793, 0.42387511, 0.29172576,\n",
       "        0.09979201, 0.26534974, 0.52296224, 0.02014015, 0.50264521],\n",
       "       [0.2984338 , 0.55264797, 0.0424327 , 0.77500081, 0.53338281,\n",
       "        0.18245677, 0.48515768, 0.9561688 , 0.03682366, 0.91902173],\n",
       "       [0.10063222, 0.18635353, 0.01430835, 0.26133115, 0.17985729,\n",
       "        0.06152463, 0.16359572, 0.32242121, 0.01241698, 0.30989517],\n",
       "       [0.11555562, 0.21398909, 0.01643023, 0.30008563, 0.20652948,\n",
       "        0.07064851, 0.18785638, 0.37023512, 0.01425838, 0.35585152],\n",
       "       [0.29323935, 0.54302874, 0.04169413, 0.76151137, 0.5240989 ,\n",
       "        0.17928098, 0.47671316, 0.93952601, 0.03618272, 0.90302551],\n",
       "       [0.22310403, 0.41315022, 0.03172196, 0.57937741, 0.39874791,\n",
       "        0.13640158, 0.36269562, 0.71481553, 0.02752874, 0.68704501],\n",
       "       [0.17989336, 0.3331315 , 0.02557807, 0.4671639 , 0.32151862,\n",
       "        0.10998339, 0.29244892, 0.57637042, 0.02219699, 0.55397849],\n",
       "       [0.12400713, 0.22963983, 0.01763191, 0.3220333 , 0.22163464,\n",
       "        0.07581561, 0.20159583, 0.39731339, 0.0153012 , 0.3818778 ]])"
      ]
     },
     "execution_count": 95,
     "metadata": {},
     "output_type": "execute_result"
    }
   ],
   "source": [
    "# Author: Alex Riley\n",
    "# Make sure to read: http://ajcr.net/Basic-guide-to-einsum/\n",
    "\n",
    "A = np.random.uniform(0,1,10)\n",
    "B = np.random.uniform(0,1,10)\n",
    "\n",
    "np.einsum('i->', A)       # np.sum(A)\n",
    "np.einsum('i,i->i', A, B) # A * B\n",
    "np.einsum('i,i', A, B)    # np.inner(A, B)\n",
    "np.einsum('i,j->ij', A, B)    # np.outer(A, B)"
   ]
  },
  {
   "cell_type": "markdown",
   "id": "7ad5cc5f",
   "metadata": {},
   "source": [
    "#### 98. Considering a path described by two vectors (X,Y), how to sample it using equidistant samples (★★★)?"
   ]
  },
  {
   "cell_type": "code",
   "execution_count": 96,
   "id": "0899d1d5",
   "metadata": {},
   "outputs": [
    {
     "name": "stdout",
     "output_type": "stream",
     "text": [
      "Sampled X: [0.         0.69289644 1.38579288 2.07868933 2.77158577 3.46448221\n",
      " 4.21114562 5.14076375 6.07038187 7.        ]\n",
      "Sampled Y: [0.         0.69289644 0.61420712 0.07868933 0.77158577 1.46448221\n",
      " 1.92961813 1.61974542 1.30987271 1.        ]\n"
     ]
    }
   ],
   "source": [
    "import numpy as np\n",
    "\n",
    "def equidistant_sampling(X, Y, num_samples):\n",
    "    # Calculate the cumulative distances\n",
    "    dists = np.sqrt(np.diff(X)**2 + np.diff(Y)**2)\n",
    "    cumulative_dist = np.concatenate(([0], np.cumsum(dists)))\n",
    "\n",
    "    # Interpolation\n",
    "    total_dist = cumulative_dist[-1]\n",
    "    equidistant_points = np.linspace(0, total_dist, num_samples)\n",
    "    X_sampled = np.interp(equidistant_points, cumulative_dist, X)\n",
    "    Y_sampled = np.interp(equidistant_points, cumulative_dist, Y)\n",
    "\n",
    "    return X_sampled, Y_sampled\n",
    "\n",
    "# Example vectors (X, Y)\n",
    "X = np.array([0, 1, 2, 4, 7])\n",
    "Y = np.array([0, 1, 0, 2, 1])\n",
    "\n",
    "# Number of equidistant samples\n",
    "num_samples = 10\n",
    "\n",
    "# Sample the path\n",
    "X_sampled, Y_sampled = equidistant_sampling(X, Y, num_samples)\n",
    "\n",
    "# Print the sampled points\n",
    "print(\"Sampled X:\", X_sampled)\n",
    "print(\"Sampled Y:\", Y_sampled)\n"
   ]
  },
  {
   "cell_type": "markdown",
   "id": "2b69272e",
   "metadata": {},
   "source": [
    "#### 99. Given an integer n and a 2D array X, select from X the rows which can be interpreted as draws from a multinomial distribution with n degrees, i.e., the rows which only contain integers and which sum to n. (★★★)"
   ]
  },
  {
   "cell_type": "code",
   "execution_count": 97,
   "id": "55c8b034",
   "metadata": {},
   "outputs": [
    {
     "name": "stdout",
     "output_type": "stream",
     "text": [
      "Rows interpreted as draws from a multinomial distribution with 5 degrees:\n",
      " [[2. 3. 0.]\n",
      " [4. 1. 0.]\n",
      " [1. 2. 2.]]\n"
     ]
    }
   ],
   "source": [
    "import numpy as np\n",
    "\n",
    "def select_multinomial_rows(n, X):\n",
    "    # Convert the array to integer type (only keeps integer values)\n",
    "    int_X = np.floor(X).astype(int)\n",
    "    \n",
    "    # Check if rows sum to n and contain only integer values\n",
    "    valid_rows = np.all(X == int_X, axis=1) & (np.sum(int_X, axis=1) == n)\n",
    "    \n",
    "    # Select the rows that meet the criteria\n",
    "    selected_rows = X[valid_rows]\n",
    "    \n",
    "    return selected_rows\n",
    "\n",
    "# Example integer n and 2D array X\n",
    "n = 5\n",
    "X = np.array([\n",
    "    [2, 3, 0],\n",
    "    [1.5, 1, 2.5],\n",
    "    [4, 1, 0],\n",
    "    [1, 2, 2],\n",
    "    [3, 2, 1]\n",
    "])\n",
    "\n",
    "# Select rows from X that meet the criteria\n",
    "result = select_multinomial_rows(n, X)\n",
    "\n",
    "print(\"Rows interpreted as draws from a multinomial distribution with\", n, \"degrees:\\n\", result)\n"
   ]
  },
  {
   "cell_type": "markdown",
   "id": "59ab5516",
   "metadata": {},
   "source": [
    "#### 100. Compute bootstrapped 95% confidence intervals for the mean of a 1D array X (i.e., resample the elements of an array with replacement N times, compute the mean of each sample, and then compute percentiles over the means). (★★★)"
   ]
  },
  {
   "cell_type": "code",
   "execution_count": 98,
   "id": "450877d8",
   "metadata": {},
   "outputs": [
    {
     "name": "stdout",
     "output_type": "stream",
     "text": [
      "Bootstrapped 95% confidence interval for the mean: [0.47003885 0.58272676]\n"
     ]
    }
   ],
   "source": [
    "import numpy as np\n",
    "\n",
    "def bootstrap_confidence_interval(data, num_samples=10000, confidence_level=0.95):\n",
    "    # Generate bootstrap samples\n",
    "    boot_means = np.array([np.mean(np.random.choice(data, size=len(data), replace=True)) for _ in range(num_samples)])\n",
    "    \n",
    "    # Calculate the confidence interval percentiles\n",
    "    lower_percentile = (1.0 - confidence_level) / 2.0 * 100\n",
    "    upper_percentile = (1.0 + confidence_level) / 2.0 * 100\n",
    "    confidence_interval = np.percentile(boot_means, [lower_percentile, upper_percentile])\n",
    "    \n",
    "    return confidence_interval\n",
    "\n",
    "# Example 1D array X\n",
    "X = np.random.rand(100)  # Replace with your data\n",
    "\n",
    "# Compute bootstrapped 95% confidence intervals for the mean\n",
    "confidence_interval = bootstrap_confidence_interval(X)\n",
    "\n",
    "print(\"Bootstrapped 95% confidence interval for the mean:\", confidence_interval)\n"
   ]
  }
 ],
 "metadata": {
  "kernelspec": {
   "display_name": "Python 3",
   "language": "python",
   "name": "python3"
  },
  "language_info": {
   "codemirror_mode": {
    "name": "ipython",
    "version": 3
   },
   "file_extension": ".py",
   "mimetype": "text/x-python",
   "name": "python",
   "nbconvert_exporter": "python",
   "pygments_lexer": "ipython3",
   "version": "3.13.1"
  }
 },
 "nbformat": 4,
 "nbformat_minor": 5
}
